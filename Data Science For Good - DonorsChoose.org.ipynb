{
 "cells": [
  {
   "cell_type": "markdown",
   "metadata": {},
   "source": [
    "<a name=\"title\"></a>\n",
    "# DataScience for Good: DonersChoose.org - EDA + Segmentation + Survival Analysis\n",
    "\n",
    "The below will include the kernel for an investigation into the doner modelling from the data publicly available at Kaggle - https://www.kaggle.com/donorschoose/io/data\n",
    "\n",
    "\n",
    "Note that this workbook is a work in progress! This is also my first Kaggle Kernel, so I'm happy to take on some tips, and criticisms wherever possible. \n"
   ]
  },
  {
   "cell_type": "markdown",
   "metadata": {},
   "source": [
    "# Contents\n",
    "\n",
    "1. [Introduction](#intro)\n",
    "2. [Reading in the Data](#readingdata)\n",
    "3. [Profiling the Data](#profiledata)\n",
    "  1. [Birds Eye View](#birdseyeview)\n",
    "  1. [Nullity](#nullity)\n",
    "\n",
    "\n",
    "\n",
    "\n"
   ]
  },
  {
   "cell_type": "markdown",
   "metadata": {},
   "source": [
    "<a name=\"intro\"></a>\n",
    "# 1. Introduction\n",
    "\n",
    "This Notebook will explore the Donations.csv provided by DonorsChoose.org partnered with Google.org and document the process that will begin with performing basic descriptive statistics, to finalising a survival model which will predict the likelihood of donor dropoff.\n",
    "\n",
    "Follow along in your own python session if you want to have ago yourself. I'm working in Python 3.5 right now, my admin has been slacking recently XD. You'll need the following packages installed with pip:\n",
    "\n",
    "- numpy\n",
    "- pandas\n",
    "- matplotlib\n",
    "\n"
   ]
  },
  {
   "cell_type": "code",
   "execution_count": 1,
   "metadata": {},
   "outputs": [],
   "source": [
    "import datetime as dt\n",
    "import pandas as pd\n",
    "import numpy as np"
   ]
  },
  {
   "cell_type": "markdown",
   "metadata": {},
   "source": [
    "<a name=\"readingdata\"></a>\n",
    "# 2. Reading in the Data\n",
    "\n",
    "The data will be brought into the notebook via the Pandas module \"read_csv\". The variables *columns* and *dtypes* have been used to explicitly assign the data types and names. These can make life easier if we want to rename the columns before we read in the dataset."
   ]
  },
  {
   "cell_type": "code",
   "execution_count": 3,
   "metadata": {},
   "outputs": [
    {
     "ename": "FileNotFoundError",
     "evalue": "File b'C:/Users/ssamdj/Documents/python/doners/Donations.csv' does not exist",
     "output_type": "error",
     "traceback": [
      "\u001b[1;31m---------------------------------------------------------------------------\u001b[0m",
      "\u001b[1;31mFileNotFoundError\u001b[0m                         Traceback (most recent call last)",
      "\u001b[1;32m<ipython-input-3-68603de6054d>\u001b[0m in \u001b[0;36m<module>\u001b[1;34m()\u001b[0m\n\u001b[0;32m     19\u001b[0m \u001b[1;33m\u001b[0m\u001b[0m\n\u001b[0;32m     20\u001b[0m \u001b[1;31m#needed header=0 as names was passed to the function, but first line of csv contains column titles. This ensures they're not converted\u001b[0m\u001b[1;33m\u001b[0m\u001b[1;33m\u001b[0m\u001b[0m\n\u001b[1;32m---> 21\u001b[1;33m \u001b[0mdonations\u001b[0m \u001b[1;33m=\u001b[0m \u001b[0mpd\u001b[0m\u001b[1;33m.\u001b[0m\u001b[0mread_csv\u001b[0m\u001b[1;33m(\u001b[0m\u001b[0mPATH\u001b[0m\u001b[1;33m+\u001b[0m\u001b[1;34m'/Donations.csv'\u001b[0m\u001b[1;33m,\u001b[0m \u001b[0mnames\u001b[0m \u001b[1;33m=\u001b[0m \u001b[0mcolumns\u001b[0m\u001b[1;33m,\u001b[0m \u001b[0mheader\u001b[0m\u001b[1;33m=\u001b[0m\u001b[1;36m0\u001b[0m\u001b[1;33m,\u001b[0m \u001b[0mdtype\u001b[0m \u001b[1;33m=\u001b[0m \u001b[0mdtypes\u001b[0m\u001b[1;33m,\u001b[0m \u001b[0minfer_datetime_format\u001b[0m\u001b[1;33m=\u001b[0m\u001b[1;32mTrue\u001b[0m\u001b[1;33m,\u001b[0m \u001b[0mparse_dates\u001b[0m\u001b[1;33m=\u001b[0m\u001b[1;32mTrue\u001b[0m\u001b[1;33m,\u001b[0m \u001b[0mlow_memory\u001b[0m\u001b[1;33m=\u001b[0m\u001b[1;32mFalse\u001b[0m\u001b[1;33m)\u001b[0m\u001b[1;33m\u001b[0m\u001b[0m\n\u001b[0m\u001b[0;32m     22\u001b[0m \u001b[0mdonors\u001b[0m \u001b[1;33m=\u001b[0m \u001b[0mpd\u001b[0m\u001b[1;33m.\u001b[0m\u001b[0mread_csv\u001b[0m\u001b[1;33m(\u001b[0m\u001b[0mPATH\u001b[0m\u001b[1;33m+\u001b[0m\u001b[1;34m'/Donors.csv'\u001b[0m\u001b[1;33m,\u001b[0m \u001b[0mheader\u001b[0m\u001b[1;33m=\u001b[0m\u001b[1;36m0\u001b[0m\u001b[1;33m,\u001b[0m \u001b[0minfer_datetime_format\u001b[0m\u001b[1;33m=\u001b[0m\u001b[1;32mTrue\u001b[0m\u001b[1;33m,\u001b[0m \u001b[0mparse_dates\u001b[0m\u001b[1;33m=\u001b[0m\u001b[1;32mTrue\u001b[0m\u001b[1;33m,\u001b[0m \u001b[0mlow_memory\u001b[0m\u001b[1;33m=\u001b[0m\u001b[1;32mFalse\u001b[0m\u001b[1;33m)\u001b[0m\u001b[1;33m\u001b[0m\u001b[0m\n\u001b[0;32m     23\u001b[0m \u001b[1;31m#projects = pd.read_csv(PATH+'/Projects.csv', header=0, infer_datetime_format=True, parse_dates=True, low_memory=False)\u001b[0m\u001b[1;33m\u001b[0m\u001b[1;33m\u001b[0m\u001b[0m\n",
      "\u001b[1;32mc:\\program files\\python35\\lib\\site-packages\\pandas\\io\\parsers.py\u001b[0m in \u001b[0;36mparser_f\u001b[1;34m(filepath_or_buffer, sep, delimiter, header, names, index_col, usecols, squeeze, prefix, mangle_dupe_cols, dtype, engine, converters, true_values, false_values, skipinitialspace, skiprows, nrows, na_values, keep_default_na, na_filter, verbose, skip_blank_lines, parse_dates, infer_datetime_format, keep_date_col, date_parser, dayfirst, iterator, chunksize, compression, thousands, decimal, lineterminator, quotechar, quoting, escapechar, comment, encoding, dialect, tupleize_cols, error_bad_lines, warn_bad_lines, skipfooter, skip_footer, doublequote, delim_whitespace, as_recarray, compact_ints, use_unsigned, low_memory, buffer_lines, memory_map, float_precision)\u001b[0m\n\u001b[0;32m    644\u001b[0m                     skip_blank_lines=skip_blank_lines)\n\u001b[0;32m    645\u001b[0m \u001b[1;33m\u001b[0m\u001b[0m\n\u001b[1;32m--> 646\u001b[1;33m         \u001b[1;32mreturn\u001b[0m \u001b[0m_read\u001b[0m\u001b[1;33m(\u001b[0m\u001b[0mfilepath_or_buffer\u001b[0m\u001b[1;33m,\u001b[0m \u001b[0mkwds\u001b[0m\u001b[1;33m)\u001b[0m\u001b[1;33m\u001b[0m\u001b[0m\n\u001b[0m\u001b[0;32m    647\u001b[0m \u001b[1;33m\u001b[0m\u001b[0m\n\u001b[0;32m    648\u001b[0m     \u001b[0mparser_f\u001b[0m\u001b[1;33m.\u001b[0m\u001b[0m__name__\u001b[0m \u001b[1;33m=\u001b[0m \u001b[0mname\u001b[0m\u001b[1;33m\u001b[0m\u001b[0m\n",
      "\u001b[1;32mc:\\program files\\python35\\lib\\site-packages\\pandas\\io\\parsers.py\u001b[0m in \u001b[0;36m_read\u001b[1;34m(filepath_or_buffer, kwds)\u001b[0m\n\u001b[0;32m    387\u001b[0m \u001b[1;33m\u001b[0m\u001b[0m\n\u001b[0;32m    388\u001b[0m     \u001b[1;31m# Create the parser.\u001b[0m\u001b[1;33m\u001b[0m\u001b[1;33m\u001b[0m\u001b[0m\n\u001b[1;32m--> 389\u001b[1;33m     \u001b[0mparser\u001b[0m \u001b[1;33m=\u001b[0m \u001b[0mTextFileReader\u001b[0m\u001b[1;33m(\u001b[0m\u001b[0mfilepath_or_buffer\u001b[0m\u001b[1;33m,\u001b[0m \u001b[1;33m**\u001b[0m\u001b[0mkwds\u001b[0m\u001b[1;33m)\u001b[0m\u001b[1;33m\u001b[0m\u001b[0m\n\u001b[0m\u001b[0;32m    390\u001b[0m \u001b[1;33m\u001b[0m\u001b[0m\n\u001b[0;32m    391\u001b[0m     \u001b[1;32mif\u001b[0m \u001b[1;33m(\u001b[0m\u001b[0mnrows\u001b[0m \u001b[1;32mis\u001b[0m \u001b[1;32mnot\u001b[0m \u001b[1;32mNone\u001b[0m\u001b[1;33m)\u001b[0m \u001b[1;32mand\u001b[0m \u001b[1;33m(\u001b[0m\u001b[0mchunksize\u001b[0m \u001b[1;32mis\u001b[0m \u001b[1;32mnot\u001b[0m \u001b[1;32mNone\u001b[0m\u001b[1;33m)\u001b[0m\u001b[1;33m:\u001b[0m\u001b[1;33m\u001b[0m\u001b[0m\n",
      "\u001b[1;32mc:\\program files\\python35\\lib\\site-packages\\pandas\\io\\parsers.py\u001b[0m in \u001b[0;36m__init__\u001b[1;34m(self, f, engine, **kwds)\u001b[0m\n\u001b[0;32m    728\u001b[0m             \u001b[0mself\u001b[0m\u001b[1;33m.\u001b[0m\u001b[0moptions\u001b[0m\u001b[1;33m[\u001b[0m\u001b[1;34m'has_index_names'\u001b[0m\u001b[1;33m]\u001b[0m \u001b[1;33m=\u001b[0m \u001b[0mkwds\u001b[0m\u001b[1;33m[\u001b[0m\u001b[1;34m'has_index_names'\u001b[0m\u001b[1;33m]\u001b[0m\u001b[1;33m\u001b[0m\u001b[0m\n\u001b[0;32m    729\u001b[0m \u001b[1;33m\u001b[0m\u001b[0m\n\u001b[1;32m--> 730\u001b[1;33m         \u001b[0mself\u001b[0m\u001b[1;33m.\u001b[0m\u001b[0m_make_engine\u001b[0m\u001b[1;33m(\u001b[0m\u001b[0mself\u001b[0m\u001b[1;33m.\u001b[0m\u001b[0mengine\u001b[0m\u001b[1;33m)\u001b[0m\u001b[1;33m\u001b[0m\u001b[0m\n\u001b[0m\u001b[0;32m    731\u001b[0m \u001b[1;33m\u001b[0m\u001b[0m\n\u001b[0;32m    732\u001b[0m     \u001b[1;32mdef\u001b[0m \u001b[0mclose\u001b[0m\u001b[1;33m(\u001b[0m\u001b[0mself\u001b[0m\u001b[1;33m)\u001b[0m\u001b[1;33m:\u001b[0m\u001b[1;33m\u001b[0m\u001b[0m\n",
      "\u001b[1;32mc:\\program files\\python35\\lib\\site-packages\\pandas\\io\\parsers.py\u001b[0m in \u001b[0;36m_make_engine\u001b[1;34m(self, engine)\u001b[0m\n\u001b[0;32m    921\u001b[0m     \u001b[1;32mdef\u001b[0m \u001b[0m_make_engine\u001b[0m\u001b[1;33m(\u001b[0m\u001b[0mself\u001b[0m\u001b[1;33m,\u001b[0m \u001b[0mengine\u001b[0m\u001b[1;33m=\u001b[0m\u001b[1;34m'c'\u001b[0m\u001b[1;33m)\u001b[0m\u001b[1;33m:\u001b[0m\u001b[1;33m\u001b[0m\u001b[0m\n\u001b[0;32m    922\u001b[0m         \u001b[1;32mif\u001b[0m \u001b[0mengine\u001b[0m \u001b[1;33m==\u001b[0m \u001b[1;34m'c'\u001b[0m\u001b[1;33m:\u001b[0m\u001b[1;33m\u001b[0m\u001b[0m\n\u001b[1;32m--> 923\u001b[1;33m             \u001b[0mself\u001b[0m\u001b[1;33m.\u001b[0m\u001b[0m_engine\u001b[0m \u001b[1;33m=\u001b[0m \u001b[0mCParserWrapper\u001b[0m\u001b[1;33m(\u001b[0m\u001b[0mself\u001b[0m\u001b[1;33m.\u001b[0m\u001b[0mf\u001b[0m\u001b[1;33m,\u001b[0m \u001b[1;33m**\u001b[0m\u001b[0mself\u001b[0m\u001b[1;33m.\u001b[0m\u001b[0moptions\u001b[0m\u001b[1;33m)\u001b[0m\u001b[1;33m\u001b[0m\u001b[0m\n\u001b[0m\u001b[0;32m    924\u001b[0m         \u001b[1;32melse\u001b[0m\u001b[1;33m:\u001b[0m\u001b[1;33m\u001b[0m\u001b[0m\n\u001b[0;32m    925\u001b[0m             \u001b[1;32mif\u001b[0m \u001b[0mengine\u001b[0m \u001b[1;33m==\u001b[0m \u001b[1;34m'python'\u001b[0m\u001b[1;33m:\u001b[0m\u001b[1;33m\u001b[0m\u001b[0m\n",
      "\u001b[1;32mc:\\program files\\python35\\lib\\site-packages\\pandas\\io\\parsers.py\u001b[0m in \u001b[0;36m__init__\u001b[1;34m(self, src, **kwds)\u001b[0m\n\u001b[0;32m   1388\u001b[0m         \u001b[0mkwds\u001b[0m\u001b[1;33m[\u001b[0m\u001b[1;34m'allow_leading_cols'\u001b[0m\u001b[1;33m]\u001b[0m \u001b[1;33m=\u001b[0m \u001b[0mself\u001b[0m\u001b[1;33m.\u001b[0m\u001b[0mindex_col\u001b[0m \u001b[1;32mis\u001b[0m \u001b[1;32mnot\u001b[0m \u001b[1;32mFalse\u001b[0m\u001b[1;33m\u001b[0m\u001b[0m\n\u001b[0;32m   1389\u001b[0m \u001b[1;33m\u001b[0m\u001b[0m\n\u001b[1;32m-> 1390\u001b[1;33m         \u001b[0mself\u001b[0m\u001b[1;33m.\u001b[0m\u001b[0m_reader\u001b[0m \u001b[1;33m=\u001b[0m \u001b[0m_parser\u001b[0m\u001b[1;33m.\u001b[0m\u001b[0mTextReader\u001b[0m\u001b[1;33m(\u001b[0m\u001b[0msrc\u001b[0m\u001b[1;33m,\u001b[0m \u001b[1;33m**\u001b[0m\u001b[0mkwds\u001b[0m\u001b[1;33m)\u001b[0m\u001b[1;33m\u001b[0m\u001b[0m\n\u001b[0m\u001b[0;32m   1391\u001b[0m \u001b[1;33m\u001b[0m\u001b[0m\n\u001b[0;32m   1392\u001b[0m         \u001b[1;31m# XXX\u001b[0m\u001b[1;33m\u001b[0m\u001b[1;33m\u001b[0m\u001b[0m\n",
      "\u001b[1;32mpandas\\parser.pyx\u001b[0m in \u001b[0;36mpandas.parser.TextReader.__cinit__ (pandas\\parser.c:4184)\u001b[1;34m()\u001b[0m\n",
      "\u001b[1;32mpandas\\parser.pyx\u001b[0m in \u001b[0;36mpandas.parser.TextReader._setup_parser_source (pandas\\parser.c:8449)\u001b[1;34m()\u001b[0m\n",
      "\u001b[1;31mFileNotFoundError\u001b[0m: File b'C:/Users/ssamdj/Documents/python/doners/Donations.csv' does not exist"
     ]
    }
   ],
   "source": [
    "columns = ['Project ID',\n",
    "          'Donation ID',\n",
    "          'Donor ID',\n",
    "          'Donation Included Optional Donation',\n",
    "          'Donation Amount',\n",
    "          'Donor Cart Sequence',\n",
    "          'Donation Received Date']\n",
    "\n",
    "dtypes = {'Project ID': object,\n",
    "          'Donation ID': object,\n",
    "          'Donor ID': object,\n",
    "          'Donation Included Optional Donation': object,\n",
    "          'Donation Amount': np.float64,\n",
    "          'Donor Cart Sequence': np.float64,\n",
    "          'Donation Received Date': object}\n",
    "\n",
    "PATH = 'C:/Users/ssamdj/Documents/python/doners'\n",
    "#PATH = '/home/mj/datawarehouse/io'\n",
    "\n",
    "#needed header=0 as names was passed to the function, but first line of csv contains column titles. This ensures they're not converted\n",
    "donations = pd.read_csv(PATH+'/Donations.csv', names = columns, header=0, dtype = dtypes, infer_datetime_format=True, parse_dates=True, low_memory=False)\n",
    "donors = pd.read_csv(PATH+'/Donors.csv', header=0, infer_datetime_format=True, parse_dates=True, low_memory=False)\n",
    "#projects = pd.read_csv(PATH+'/Projects.csv', header=0, infer_datetime_format=True, parse_dates=True, low_memory=False)\n",
    "#resources = pd.read_csv(PATH+'/Resources.csv', header=0, infer_datetime_format=True, parse_dates=True, low_memory=False)\n",
    "#schools = pd.read_csv(PATH+'/Schools.csv', names = columns, header=0, dtype = dtypes, infer_datetime_format=True, parse_dates=True, low_memory=False)\n",
    "#teachers = pd.read_csv(PATH+'/Teachers.csv', names = columns, header=0, dtype = dtypes, infer_datetime_format=True, parse_dates=True, low_memory=False)\n",
    "\n"
   ]
  },
  {
   "cell_type": "markdown",
   "metadata": {},
   "source": [
    "<a name=\"profiledata\"></a>\n",
    "# 3. Profiling the Data\n",
    "## 3.1 Birdseye View\n",
    "\n",
    "At the onset of any new project, I always like to find my bearings. Determining some high level statistical data can help to provide this picture. Descriptive statistics is the most basic form of data analysis and is essential to an effective workflow. Following, this, visualising the data is another important skillset to have in your back pocket. "
   ]
  },
  {
   "cell_type": "code",
   "execution_count": 2,
   "metadata": {
    "scrolled": true
   },
   "outputs": [
    {
     "name": "stdout",
     "output_type": "stream",
     "text": [
      "Donations: \n",
      " Rows:  4687884 Columns:  7\n",
      "Project ID                              object\n",
      "Donation ID                             object\n",
      "Donor ID                                object\n",
      "Donation Included Optional Donation     object\n",
      "Donation Amount                        float64\n",
      "Donor Cart Sequence                    float64\n",
      "Donation Received Date                  object\n",
      "dtype: object\n",
      "Donors: \n",
      " Rows:  2122640 Columns:  5\n",
      "Donor ID            object\n",
      "Donor City          object\n",
      "Donor State         object\n",
      "Donor Is Teacher    object\n",
      "Donor Zip           object\n",
      "dtype: object\n"
     ]
    }
   ],
   "source": [
    "print('Donations: \\n','Rows: ', donations.shape[0], 'Columns: ', donations.shape[1])\n",
    "print(donations.dtypes)\n",
    "print('Donors: \\n','Rows: ', donors.shape[0], 'Columns: ', donors.shape[1])\n",
    "print(donors.dtypes)\n",
    "#print('Projects: \\n','Rows: ', projects.shape[0], 'Columns: ', projects.shape[1])\n",
    "#print(projects.dtypes)\n",
    "#print('Resources: \\n','Rows: ', resources.shape[0], 'Columns: ', resources.shape[1])\n",
    "#print(resources.dtypes)\n",
    "#print('Schools: \\n','Rows: ', schools.shape[0], 'Columns: ', schools.shape[1])\n",
    "#print('Teachers: \\n','Rows: ', teachers.shape[0], 'Columns: ', teachers.shape[1])"
   ]
  },
  {
   "cell_type": "markdown",
   "metadata": {},
   "source": [
    "Slow and steady now! Okay, so the dataframe that we've loaded with the Donations.csv has 4.6M+ rows! That's some hefty data. Fortunately we've only got 7 columns to work with, which have been defined earlier. \n",
    "\n",
    "I think we'll need to enrich this data with some additional statistical information on the donor level to create these predictors of survival. For now, let's get some top level statistical data."
   ]
  },
  {
   "cell_type": "code",
   "execution_count": 3,
   "metadata": {},
   "outputs": [
    {
     "name": "stdout",
     "output_type": "stream",
     "text": [
      "The minimum donation amount is: $ 0.01\n",
      "The maximum donation amount is: $ 60000.0\n",
      "The average donation amount is: $ 60.66878857923961\n",
      "The most common donation amount is: $ 25.0\n"
     ]
    }
   ],
   "source": [
    "print(\"The minimum donation amount is: $\", donations['Donation Amount'].min())\n",
    "print(\"The maximum donation amount is: $\", donations['Donation Amount'].max())\n",
    "print(\"The average donation amount is: $\", donations['Donation Amount'].mean())\n",
    "df_mode = donations['Donation Amount'].mode() #note the mode outputs a dataframe where each row would identify the most common element in the case of ties.\n",
    "print(\"The most common donation amount is: $\", df_mode.iloc[0])\n"
   ]
  },
  {
   "cell_type": "markdown",
   "metadata": {},
   "source": [
    "That tell's us a little more. Donations vary - from as little as \\$0.01 to \\$60 000, whilst the mean is \\$60.67. The mean is a measure of centrality, but it isn't necessarily the best one to use in this kind of data set. From my own personal experience, I believe that this data set would be fairly right skewed (long tail to the right of the mean). A priori, I would guess that there would be a lot of smaller donations, and fewer at the high end. The mode gives me extra motivation that this is indeed the case.\n",
    "\n",
    "Don't forget to apply your own intuitions to the data - ask yourself what your prior knowledge or assumptions might be, and always challenge them.\n",
    "\n",
    "Sometimes the median - the middle item in an ordered list would be more appropriate. If the distribution of the donation amounts was symmetrically normal, then the median and means should be the same."
   ]
  },
  {
   "cell_type": "code",
   "execution_count": 4,
   "metadata": {},
   "outputs": [
    {
     "name": "stdout",
     "output_type": "stream",
     "text": [
      "The middle donation amount is: $ 25.0\n"
     ]
    }
   ],
   "source": [
    "print(\"The middle donation amount is: $\", donations['Donation Amount'].median())\n"
   ]
  },
  {
   "cell_type": "markdown",
   "metadata": {},
   "source": [
    "Ha! Knew it! Funnily enough, the most common donation is the same as the middle donation. That doesn't always happen like that. \n",
    "\n",
    "We can also do some further investigatory work to measure the spread of values across the distribution. Some inter-quantile information, and calculating the standard deviation should help us here."
   ]
  },
  {
   "cell_type": "code",
   "execution_count": 5,
   "metadata": {},
   "outputs": [
    {
     "name": "stdout",
     "output_type": "stream",
     "text": [
      "The standard deviation is: $ 166.89961532503747\n",
      "The variance is: $ 27855.481595645484\n",
      "The 1st, 2nd, 3rd quantiles are: \n",
      " 0.25    14.82\n",
      "0.50    25.00\n",
      "0.75    50.00\n",
      "Name: Donation Amount, dtype: float64\n"
     ]
    }
   ],
   "source": [
    "print(\"The standard deviation is: $\", donations['Donation Amount'].std())\n",
    "print(\"The variance is: $\", donations['Donation Amount'].var())\n",
    "print(\"The 1st, 2nd, 3rd quantiles are: \\n\", donations['Donation Amount'].quantile([0.25, 0.50, 0.75]))"
   ]
  },
  {
   "cell_type": "markdown",
   "metadata": {},
   "source": [
    "These statistice are a little more difficult to interpret, but the standard deviation can be used to estimate what proportion of the population lies within specific intervals around the mean. For instance, approximately  between 1 Standard Deviation above and below the mean. The higher the standard deivation, the greater the spread. Variance is a similar concept and can also be expressed as the square of the standard deviation.\n",
    "\n",
    "The quartiles are the cutoff points for each population quarter of the population. 25% of the donation amounts are below \\$14.82, 50% are below \\$25, etc."
   ]
  },
  {
   "cell_type": "markdown",
   "metadata": {},
   "source": [
    "<a name=\"nullity\"></a>\n",
    "## Nullity\n",
    "\n",
    "Checking the proportionality of null columns in the tables is a very important step in profiling the data you want to work with. Ultimately it'll lead to more questions - like, why is the data null? do nulls only affect certain groups? How we treat nulls in our analysis is another decision point. "
   ]
  },
  {
   "cell_type": "code",
   "execution_count": 6,
   "metadata": {},
   "outputs": [
    {
     "name": "stdout",
     "output_type": "stream",
     "text": [
      "Null Values for Donations.csv:  Project ID                             0\n",
      "Donation ID                            0\n",
      "Donor ID                               0\n",
      "Donation Included Optional Donation    0\n",
      "Donation Amount                        0\n",
      "Donor Cart Sequence                    0\n",
      "Donation Received Date                 0\n",
      "dtype: int64\n",
      "Null Values for Donors.csv:  Donor ID                 0\n",
      "Donor City          213097\n",
      "Donor State              0\n",
      "Donor Is Teacher         0\n",
      "Donor Zip           180060\n",
      "dtype: int64\n"
     ]
    }
   ],
   "source": [
    "print('Null Values for Donations.csv: ', donations.isnull().sum())\n",
    "print('Null Values for Donors.csv: ', donors.isnull().sum())\n"
   ]
  },
  {
   "cell_type": "markdown",
   "metadata": {},
   "source": [
    "Overall Donations.csv is complete, but Donors.csv has a some 200000+ missings for City and Zip, which might be problematic if we're going to do some geographical based analysis."
   ]
  },
  {
   "cell_type": "markdown",
   "metadata": {},
   "source": [
    "## Some Data Preparation\n",
    "\n",
    "We enhance the donor data by creating additional columns which generate some statistical data based on "
   ]
  },
  {
   "cell_type": "code",
   "execution_count": 7,
   "metadata": {},
   "outputs": [],
   "source": [
    "#Note the as_index option will enable the datasets to be joined. The default behaviour of the groupby method is to make the groupby variable an index.\n",
    "df_by_donor = donations[['Donor ID','Donation ID', 'Donation Amount', 'Donation Received Date']].groupby('Donor ID', as_index=False).agg({'Donation ID': 'count', 'Donation Received Date': 'max', 'Donation Amount': ['min', 'max', 'mean', 'sum']})"
   ]
  },
  {
   "cell_type": "code",
   "execution_count": 8,
   "metadata": {},
   "outputs": [
    {
     "data": {
      "text/plain": [
       "MultiIndex(levels=[['Donation ID', 'Donation Received Date', 'Donation Amount', 'Donor ID'], ['count', 'max', 'mean', 'min', 'sum', '']],\n",
       "           labels=[[3, 0, 1, 2, 2, 2, 2], [5, 0, 1, 3, 1, 2, 4]])"
      ]
     },
     "execution_count": 8,
     "metadata": {},
     "output_type": "execute_result"
    }
   ],
   "source": [
    "df_by_donor.columns"
   ]
  },
  {
   "cell_type": "markdown",
   "metadata": {},
   "source": [
    "The dataframe we've just created df_donor_donations contains a multi-level index, and as such, needs to be treated differently when renaming. I personally prefer to have a flatter structure when dealing with pandas data frames. We can check this by printing the following:"
   ]
  },
  {
   "cell_type": "code",
   "execution_count": 9,
   "metadata": {},
   "outputs": [
    {
     "name": "stdout",
     "output_type": "stream",
     "text": [
      "Index(['Donor ID', 'Donation ID', 'Donation Received Date', 'Donation Amount',\n",
      "       'Donation Amount', 'Donation Amount', 'Donation Amount'],\n",
      "      dtype='object')\n",
      "Index(['', 'count', 'max', 'min', 'max', 'mean', 'sum'], dtype='object')\n"
     ]
    }
   ],
   "source": [
    "print(df_by_donor.columns.get_level_values(0))\n",
    "print(df_by_donor.columns.get_level_values(1))"
   ]
  },
  {
   "cell_type": "markdown",
   "metadata": {},
   "source": [
    "We can see here that we have a multi-level index. This can sometimes also occur when we use pivot tables. One way of flattening this has been discussed on Stack Overflow - https://stackoverflow.com/questions/14507794/python-pandas-how-to-flatten-a-hierarchical-index-in-columns.\n",
    "\n",
    "The approach by Andy Hayden is employed below."
   ]
  },
  {
   "cell_type": "code",
   "execution_count": 10,
   "metadata": {},
   "outputs": [],
   "source": [
    "df_by_donor.columns = [' '.join(col).strip() for col in df_by_donor.columns.values]"
   ]
  },
  {
   "cell_type": "markdown",
   "metadata": {},
   "source": [
    "Let's see how that has worked.\n"
   ]
  },
  {
   "cell_type": "code",
   "execution_count": 11,
   "metadata": {},
   "outputs": [
    {
     "name": "stdout",
     "output_type": "stream",
     "text": [
      "                           Donor ID  Donation ID count  \\\n",
      "0  00000ce845c00cbf0686c992fc369df4                  1   \n",
      "1  00002783bc5d108510f3f9666c8b1edd                  1   \n",
      "2  00002d44003ed46b066607c5455a999a                 11   \n",
      "3  00002eb25d60a09c318efbd0797bffb5                  5   \n",
      "4  0000300773fe015f870914b42528541b                  1   \n",
      "\n",
      "  Donation Received Date max  Donation Amount min  Donation Amount max  \\\n",
      "0        2013-12-17 21:47:14                50.00                 50.0   \n",
      "1        2016-02-02 18:34:27                99.00                 99.0   \n",
      "2        2017-10-18 14:34:11                 9.69                150.0   \n",
      "3        2018-01-16 15:32:41                10.00                 50.0   \n",
      "4        2017-02-26 11:52:14                50.00                 50.0   \n",
      "\n",
      "   Donation Amount mean  Donation Amount sum  \n",
      "0             50.000000                50.00  \n",
      "1             99.000000                99.00  \n",
      "2             57.722727               634.95  \n",
      "3             42.000000               210.00  \n",
      "4             50.000000                50.00  \n"
     ]
    }
   ],
   "source": [
    "print(df_by_donor.head())"
   ]
  },
  {
   "cell_type": "markdown",
   "metadata": {},
   "source": [
    "I think I can spruce up those names a bit."
   ]
  },
  {
   "cell_type": "code",
   "execution_count": 12,
   "metadata": {},
   "outputs": [
    {
     "name": "stdout",
     "output_type": "stream",
     "text": [
      "                           Donor ID  Count of Donations by Donor  \\\n",
      "0  00000ce845c00cbf0686c992fc369df4                            1   \n",
      "1  00002783bc5d108510f3f9666c8b1edd                            1   \n",
      "2  00002d44003ed46b066607c5455a999a                           11   \n",
      "3  00002eb25d60a09c318efbd0797bffb5                            5   \n",
      "4  0000300773fe015f870914b42528541b                            1   \n",
      "\n",
      "  Most Recent Donation  Minimum Donation  Maximum Donation  Mean Donation  \\\n",
      "0  2013-12-17 21:47:14             50.00              50.0      50.000000   \n",
      "1  2016-02-02 18:34:27             99.00              99.0      99.000000   \n",
      "2  2017-10-18 14:34:11              9.69             150.0      57.722727   \n",
      "3  2018-01-16 15:32:41             10.00              50.0      42.000000   \n",
      "4  2017-02-26 11:52:14             50.00              50.0      50.000000   \n",
      "\n",
      "   Total Donations  \n",
      "0            50.00  \n",
      "1            99.00  \n",
      "2           634.95  \n",
      "3           210.00  \n",
      "4            50.00  \n"
     ]
    }
   ],
   "source": [
    "df_by_donor.rename(columns = {'Donor ID': 'Donor ID', 'Donation Amount min': 'Minimum Donation', 'Donation Amount max': 'Maximum Donation', 'Donation Amount mean': 'Mean Donation', 'Donation Amount sum': 'Total Donations', 'Donation ID count': 'Count of Donations by Donor', 'Donation Received Date max': 'Most Recent Donation'}, inplace=True)\n",
    "print(df_by_donor.head())"
   ]
  },
  {
   "cell_type": "markdown",
   "metadata": {},
   "source": [
    "Much better. The final steps are to merge these data sets. I'll join 'df_by_donor' onto the original source data frame to enrich the data for visualisation. The easiest way to enrich the original data set is to perform a left join which the main data set listed as the 'left' table. Again, here we can use the pd.merge method, but change the 'how' option to left. \n",
    "\n",
    "Secondly, we'll merge with the donors data to gain some more geographic data about location."
   ]
  },
  {
   "cell_type": "code",
   "execution_count": 13,
   "metadata": {},
   "outputs": [
    {
     "name": "stdout",
     "output_type": "stream",
     "text": [
      "                         Project ID                       Donation ID  \\\n",
      "0  000009891526c0ade7180f8423792063  688729120858666221208529ee3fc18e   \n",
      "1  016510b8226e70d740130ac2dcfb6c5e  f7fc7cf0b8980fb00840b4afe7c1e761   \n",
      "2  03c8766872a129240d14be8c385b5f1a  5015b2df023ed47e7609e91ca65f7559   \n",
      "3  04bfceb168d816a3cbe52f1e70d30bf0  b8871d3666020f0a527c8d6b56361d1e   \n",
      "4  05a4e3418a97f2df3a6cc8ae8fbde60c  8bc4de01f65d42a611236e083c6f3473   \n",
      "\n",
      "                           Donor ID Donation Included Optional Donation  \\\n",
      "0  1f4b5b6e68445c6c4a0509b3aca93f38                                  No   \n",
      "1  1f4b5b6e68445c6c4a0509b3aca93f38                                  No   \n",
      "2  1f4b5b6e68445c6c4a0509b3aca93f38                                  No   \n",
      "3  1f4b5b6e68445c6c4a0509b3aca93f38                                  No   \n",
      "4  1f4b5b6e68445c6c4a0509b3aca93f38                                  No   \n",
      "\n",
      "   Donation Amount  Donor Cart Sequence Donation Received Date  \\\n",
      "0           178.37                 11.0    2016-08-23 13:15:57   \n",
      "1           807.92                 20.0    2016-12-21 13:03:59   \n",
      "2           288.99                 71.0    2018-01-25 17:01:41   \n",
      "3          1200.05                 38.0    2017-10-18 12:26:15   \n",
      "4           565.26                 75.0    2018-01-25 18:00:23   \n",
      "\n",
      "   Count of Donations by Donor Most Recent Donation  Minimum Donation  \\\n",
      "0                          314  2018-01-25 18:18:18              35.0   \n",
      "1                          314  2018-01-25 18:18:18              35.0   \n",
      "2                          314  2018-01-25 18:18:18              35.0   \n",
      "3                          314  2018-01-25 18:18:18              35.0   \n",
      "4                          314  2018-01-25 18:18:18              35.0   \n",
      "\n",
      "   Maximum Donation  Mean Donation  Total Donations   Donor City Donor State  \\\n",
      "0           2382.99     445.120159        139767.73  West Jordan        Utah   \n",
      "1           2382.99     445.120159        139767.73  West Jordan        Utah   \n",
      "2           2382.99     445.120159        139767.73  West Jordan        Utah   \n",
      "3           2382.99     445.120159        139767.73  West Jordan        Utah   \n",
      "4           2382.99     445.120159        139767.73  West Jordan        Utah   \n",
      "\n",
      "  Donor Is Teacher Donor Zip  \n",
      "0               No       840  \n",
      "1               No       840  \n",
      "2               No       840  \n",
      "3               No       840  \n",
      "4               No       840  \n"
     ]
    }
   ],
   "source": [
    "df2 = pd.merge(donations, df_by_donor, how='inner', on='Donor ID')\n",
    "df3 = pd.merge(df2, donors, how='inner', on='Donor ID')\n",
    "print(df3.head())"
   ]
  },
  {
   "cell_type": "markdown",
   "metadata": {},
   "source": [
    "## Handling Time Series Data\n",
    "\n",
    "The Donation data that we've been given is a time-series which means that the relationships that we might like to draw (say donations forecasting) are time dependent. There is likely to be sensitivity in the data due to seasonality, or drop-off of donors for various reasons.\n",
    "\n",
    "I will ensure that our datetime variables are properly interpreted as a datetime number."
   ]
  },
  {
   "cell_type": "code",
   "execution_count": 14,
   "metadata": {},
   "outputs": [],
   "source": [
    "df3['Donation Received Date'] = pd.to_datetime(df3['Donation Received Date'])\n",
    "df3['Most Recent Donation'] = pd.to_datetime(df3['Most Recent Donation'])"
   ]
  },
  {
   "cell_type": "markdown",
   "metadata": {},
   "source": [
    "I like to group my data further more\n",
    "Now is a good time to do some more feature creation before we dive head first into Visualising the content. In particular, it's sometimes a good idea to create Month, Year, Month-Year variables that will allow for better grouping through time. This will reduce the performance required of plotting by reducing the number of individual points."
   ]
  },
  {
   "cell_type": "code",
   "execution_count": 15,
   "metadata": {},
   "outputs": [],
   "source": [
    "df3['Donation Received Month'] = df3['Donation Received Date'].dt.month\n",
    "df3['Donation Received Year'] = df3['Donation Received Date'].dt.year\n",
    "df3['Donation Received Month-Year'] = df3['Donation Received Date'].dt.to_period('M')\n",
    "df3.sort_values(by='Donation Received Date', inplace=True, ascending= True)"
   ]
  },
  {
   "cell_type": "code",
   "execution_count": 16,
   "metadata": {},
   "outputs": [],
   "source": [
    "df3_month = df3[['Donation Received Month-Year', 'Donor ID', 'Donation Amount']].groupby(by='Donation Received Month-Year', as_index=False).agg({'Donation Amount': ['min', 'max', 'mean', 'sum', 'count'], 'Donor ID': pd.Series.nunique})\n",
    "df3_month.columns = [' '.join(col).strip() for col in df3_month.columns.values]\n",
    "df3_month.rename(columns = {'Donor ID nunique': 'Count of Unique Donors', 'Donation Amount min': 'Minimum Donation', 'Donation Amount max': 'Maximum Donation', 'Donation Amount mean': 'Mean Donation', 'Donation Amount sum': 'Total Donations', 'Donation Amount count': 'Count of Donations'}, inplace=True)"
   ]
  },
  {
   "cell_type": "markdown",
   "metadata": {},
   "source": [
    "## Visualising the Data\n",
    "\n",
    "Visualising the data is an important step to understanding it. Pictures are worth 1 000 words. Okay with that in mind, we'll need to import the Matplotlib to start, and then we'll try and plot a distribution of the donations over the course of the time period to get a better understanding of the spread of donations with respect to time. "
   ]
  },
  {
   "cell_type": "code",
   "execution_count": 17,
   "metadata": {},
   "outputs": [
    {
     "data": {
      "text/plain": [
       "Index(['Donation Received Month-Year', 'Minimum Donation', 'Maximum Donation',\n",
       "       'Mean Donation', 'Total Donations', 'Count of Donations',\n",
       "       'Count of Unique Donors'],\n",
       "      dtype='object')"
      ]
     },
     "execution_count": 17,
     "metadata": {},
     "output_type": "execute_result"
    }
   ],
   "source": [
    "import matplotlib.pyplot as plt\n",
    "df3_month.columns"
   ]
  },
  {
   "cell_type": "code",
   "execution_count": 18,
   "metadata": {},
   "outputs": [
    {
     "data": {
      "image/png": "[encoded data removed]",
      "text/plain": [
       "<Figure size 432x288 with 1 Axes>"
      ]
     },
     "metadata": {},
     "output_type": "display_data"
    },
    {
     "data": {
      "image/png": "[encoded data removed]",
      "text/plain": [
       "<Figure size 432x288 with 1 Axes>"
      ]
     },
     "metadata": {},
     "output_type": "display_data"
    },
    {
     "data": {
      "image/png": "[encoded data removed]",
      "text/plain": [
       "<Figure size 432x288 with 1 Axes>"
      ]
     },
     "metadata": {},
     "output_type": "display_data"
    },
    {
     "data": {
      "image/png": "[encoded data removed]",
      "text/plain": [
       "<Figure size 432x288 with 1 Axes>"
      ]
     },
     "metadata": {},
     "output_type": "display_data"
    }
   ],
   "source": [
    "df3_month.plot(x='Donation Received Month-Year', y='Total Donations', kind='line')\n",
    "df3_month.plot(x='Donation Received Month-Year', y='Mean Donation', kind='line')\n",
    "df3_month.plot(x='Donation Received Month-Year', y='Count of Donations', kind='line')\n",
    "df3_month.plot(x='Donation Received Month-Year', y='Count of Unique Donors', kind='line')\n",
    "plt.show()\n"
   ]
  },
  {
   "cell_type": "markdown",
   "metadata": {},
   "source": [
    "Okay this is interesting, there is definitely some seasonality to the donations, as can be seen by the hills and valleys in the graph. Monetary value is generally only a proxy for the frequency of donations. We may want to consider how we might further draw out the relationships for Recency-Frequency-Monetary Value. There are a couple of very large donations which are highlighted by the large spikes in the graph. No doubt, these were likely donations by organisations rather than private individuals. \n",
    "\n"
   ]
  },
  {
   "cell_type": "markdown",
   "metadata": {},
   "source": [
    "## Frequency Distribution\n",
    "\n",
    "We can also visualise the frequency with which each of the donations have occured. Since we have a large outlier ($60 000), it's best to do some binning to better show the graph. I've arbitrarily used the following bins:\n",
    "\n"
   ]
  },
  {
   "cell_type": "code",
   "execution_count": 19,
   "metadata": {},
   "outputs": [
    {
     "data": {
      "image/png": "[encoded data removed]",
      "text/plain": [
       "<Figure size 432x288 with 1 Axes>"
      ]
     },
     "metadata": {},
     "output_type": "display_data"
    }
   ],
   "source": [
    "bins = [5, 25, 50, 100, 200, 300, 400, 500, 1000, 5000]\n",
    "df3_freq = df3['Donation Amount'].value_counts(bins=bins).sort_index()\n",
    "df3_freq.plot(x='Donation Amount', y='Donation Amount count', kind= 'line')\n",
    "plt.show()\n",
    "\n",
    "#df3_norm = (df3['Donation Amount'] - df3['Donation Amount'].mean())/(df3['Donation Amount'].max() - df3['Donation Amount'].mean())"
   ]
  },
  {
   "cell_type": "markdown",
   "metadata": {},
   "source": [
    "## Classifying Donors\n",
    "\n",
    "There are several aspects that we might like to look for to categorise the donor. It's generally well known that a major proportion of the funding raised is donated by a small percentage of the population. If we can stratify the donor base to gain this insight then we might be able to more narrowly target populations, creating the the best lift. \n",
    "### The 80/20 Rule\n",
    "To begin, I'll be challenging the 80/20 rule. I'd like to first test the hypothesis that 80% of the donations in monetary value come from 20% percent of the popluation. I'll also only look at the most recent 12 months, as it might be that donors from previous years are less significant to future projections.\n",
    "\n",
    "We can do this using the datetime timedelta method.\n"
   ]
  },
  {
   "cell_type": "code",
   "execution_count": 20,
   "metadata": {},
   "outputs": [
    {
     "name": "stdout",
     "output_type": "stream",
     "text": [
      "The focus period begins at: 2017-05-09 11:38:47\n",
      "The focus period ends at: 2018-05-09 11:38:47\n"
     ]
    }
   ],
   "source": [
    "beginning_date = df3['Donation Received Date'].max() - dt.timedelta(days=365)\n",
    "end_date = df3['Donation Received Date'].max()\n",
    "\n",
    "print(\"The focus period begins at:\", beginning_date)\n",
    "print(\"The focus period ends at:\", end_date)"
   ]
  },
  {
   "cell_type": "code",
   "execution_count": 21,
   "metadata": {},
   "outputs": [
    {
     "name": "stdout",
     "output_type": "stream",
     "text": [
      "The proportion of donations from the top 20% of donors is: 0.7361556435173662\n"
     ]
    }
   ],
   "source": [
    "donor_class = df3.loc[(beginning_date <= df3['Donation Received Date'])].groupby(by='Donor ID', as_index=False).agg({'Donation Amount': ['mean', 'sum', 'count']})\n",
    "donor_class.columns = [' '.join(col).strip() for col in donor_class.columns.values]\n",
    "# This calculates the 20% of the row count\n",
    "top_20 = donor_class.shape[0]//100 * 20\n",
    "\n",
    "donor_class.sort_values('Donation Amount sum', ascending=False, inplace=True)\n",
    "donor_class.reset_index(drop=True, inplace=True)\n",
    "#\n",
    "print(\"The proportion of donations from the top 20% of donors is:\", donor_class['Donation Amount sum'].loc[(donor_class.index <= top_20)].sum()/donor_class['Donation Amount sum'].sum())\n",
    "donor_top20 = donor_class['Donor ID'].loc[(donor_class.index <= top_20)]"
   ]
  },
  {
   "cell_type": "markdown",
   "metadata": {},
   "source": [
    "So what does this mean? Firstly, the dataframe was subsetting to include only the data that is from 9th May 2017. It was grouped by Donor ID. I flattened the dataframe as Donation amount was aggregated to include the mean, count and sum of the donations of the last year. \n",
    "\n",
    "The 80/20 rule has held true, approximately speaking.\n"
   ]
  },
  {
   "cell_type": "markdown",
   "metadata": {},
   "source": [
    "## Survival Analysis\n",
    "\n",
    "\n",
    "\n",
    "### Defining the Event\n",
    "Survival analysis aims to predict when in time the some defined 'event' will occur for a person. When reviewing donors, it can be helpful to predict 'donor churn'. Donor churn can be difficult to define in the absence of information about subscription based donations.\n",
    "\n",
    "The result of this is that some donors will not have experienced this. They could be regular donors for some of these projects. In survival analysis, if the event has not occurred during the period of observation, then the object will considered to be censored. This would be specifically called right-censoring.\n",
    "\n",
    "This is where it really can get tricky with the application of survival analysis to donations. The individual may have already churned, or decided to no longer support the charity, but the full 12 month period may not have elapsed. This is a limitation of the approach. \n",
    "\n",
    "First we will define for each donor the donation frequency (mean frequency). The donor will be considered to have churned iff  their most recent donation be greater than n-periods of frequency before the observation end date. N-periods of the frequency can be decided through cross-validation, but will be n = 1 for this analysis.\n"
   ]
  },
  {
   "cell_type": "code",
   "execution_count": 22,
   "metadata": {
    "scrolled": false
   },
   "outputs": [
    {
     "name": "stdout",
     "output_type": "stream",
     "text": [
      "The focus period begins at: 2016-05-09 11:38:47\n",
      "The focus period ends at: 2017-05-09 11:38:47\n"
     ]
    }
   ],
   "source": [
    "obs_beginning_date = df3['Donation Received Date'].max() - dt.timedelta(days=365*2)\n",
    "obs_end_date = df3['Donation Received Date'].max() - dt.timedelta(days=365)\n",
    "\n",
    "print(\"The focus period begins at:\", obs_beginning_date)\n",
    "print(\"The focus period ends at:\", obs_end_date)\n",
    "\n",
    "df_survival = df3.loc[(obs_beginning_date <= df3['Donation Received Date']) & (df3['Donation Received Date'] <= obs_end_date)]\n"
   ]
  },
  {
   "cell_type": "markdown",
   "metadata": {},
   "source": [
    "Calculate a new column in the dataframe called **Time between donations**. This is done, by first sorting the Survival data period by **Donor ID** and **Donation Received Date**, and then for each **Donor ID** it will calculate the difference between successive donations. Donors with only a single donation will by default have **NaN**, this has been replaced with **0**."
   ]
  },
  {
   "cell_type": "code",
   "execution_count": 23,
   "metadata": {
    "scrolled": true
   },
   "outputs": [
    {
     "name": "stderr",
     "output_type": "stream",
     "text": [
      "/usr/lib/python3.6/site-packages/ipykernel_launcher.py:1: SettingWithCopyWarning: \n",
      "A value is trying to be set on a copy of a slice from a DataFrame\n",
      "\n",
      "See the caveats in the documentation: http://pandas.pydata.org/pandas-docs/stable/indexing.html#indexing-view-versus-copy\n",
      "  \"\"\"Entry point for launching an IPython kernel.\n",
      "/usr/lib/python3.6/site-packages/ipykernel_launcher.py:2: SettingWithCopyWarning: \n",
      "A value is trying to be set on a copy of a slice from a DataFrame.\n",
      "Try using .loc[row_indexer,col_indexer] = value instead\n",
      "\n",
      "See the caveats in the documentation: http://pandas.pydata.org/pandas-docs/stable/indexing.html#indexing-view-versus-copy\n",
      "  \n"
     ]
    }
   ],
   "source": [
    "df_survival.sort_values(by=['Donor ID', 'Donation Received Date'], inplace=True)\n",
    "df_survival.loc[:,'Time between donations'] = df_survival.groupby('Donor ID')['Donation Received Date'].diff().fillna(0)"
   ]
  },
  {
   "cell_type": "markdown",
   "metadata": {},
   "source": [
    "Working with datetime variables can be the biggest pain in the analytical workflow. The next step will first create a new dataframe which is a subset of the survival data (containing only the **Donor ID** and **Donation Received Date**) grouped by **Donor Id**.\n",
    "\n",
    "To find the mean frequency of donations, we take the grouped data, calculate the difference betweeen the dates, and calculate the mean of these differences. When there has only been a single donation, this results in **NaT** which is Not a Timestamp in Pandas - the equivalent of NaN. We'll decide on how to better handle these later.\n",
    "\n",
    "The general approach for this calculation was found at the below Stack Overflow page:\n",
    "https://stackoverflow.com/questions/29722704/fastest-way-to-calculate-average-of-datetime-rows-using-pandas\n",
    "\n",
    "This approach probably needs some work, but it's here for now."
   ]
  },
  {
   "cell_type": "code",
   "execution_count": 24,
   "metadata": {},
   "outputs": [],
   "source": [
    "df_survival_by_donor = df_survival[['Donor ID', 'Donation Received Date']].groupby('Donor ID')\n",
    "\n",
    "#This creates a Panda Series object which first calculates the difference between the times, and then the mean of those differences\n",
    "#This takes some time to calculate\n",
    "\n",
    "mean_time_diff = df_survival_by_donor.apply(lambda df: df['Donation Received Date'].diff().mean())\n"
   ]
  },
  {
   "cell_type": "markdown",
   "metadata": {},
   "source": [
    "The below steps do some minor data handling and result creating a new column in the main dataframe for this analysis called **Frequency of Donations** which takes the mean difference of time between donations. This will be used to define the Churn Date."
   ]
  },
  {
   "cell_type": "code",
   "execution_count": 25,
   "metadata": {},
   "outputs": [],
   "source": [
    "#convert the series to dataframe, reset set the index, and assign Donor ID back to a column. \n",
    "#Rename Mean Time Difference to \"Frequency of Donations\"\n",
    "#Merge this back onto the Survival dataframe\n",
    "df_mean_time_diff = mean_time_diff.to_frame()\n",
    "df_mean_time_diff = df_mean_time_diff.reset_index(drop=False)\n",
    "df_mean_time_diff.rename(columns={0: 'Frequency of Donations'}, inplace=True)\n",
    "df_survival = df_survival.merge(df_mean_time_diff, how='inner', on= 'Donor ID')"
   ]
  },
  {
   "cell_type": "markdown",
   "metadata": {},
   "source": [
    "### Churn Date\n",
    "\n",
    "The relevant **Event** will be this concept of *churn*. In a typical for-profit organisation such as a bank, the customer will be considered to have churned when they have closed their account. It's a bit more difficult to define this in the context of donors, especially without understanding the channel their donations are captured (raffle tickets, once off donations, regular contributions through direct debit, etc.)\n",
    "\n",
    "This analysis takes the convention that the customer will have churned, that is, the **Survival Event**, if their most recent donation is beyond their average frequency. If their average frequency is **NaT** then this is indeterminate."
   ]
  },
  {
   "cell_type": "code",
   "execution_count": 35,
   "metadata": {},
   "outputs": [],
   "source": [
    "n_periods = 1\n",
    "df_survival.loc[:, 'Churn Date'] = pd.to_datetime(obs_end_date)-df_survival.loc[:, 'Frequency of Donations']*n_periods"
   ]
  },
  {
   "cell_type": "markdown",
   "metadata": {},
   "source": [
    "Now, we apply the logic as above using **numpy.where** method which operates element wise. Note also the use of the element-wise OR operation '|'. There is a repetition in the check for nullity in order to condense this into a single line!"
   ]
  },
  {
   "cell_type": "code",
   "execution_count": 68,
   "metadata": {},
   "outputs": [
    {
     "data": {
      "text/plain": [
       "None    448598\n",
       "N       418105\n",
       "Y       192816\n",
       "Name: Churn Flag, dtype: int64"
      ]
     },
     "execution_count": 68,
     "metadata": {},
     "output_type": "execute_result"
    }
   ],
   "source": [
    "df_survival['Churn Flag'] = np.where(df_survival['Churn Date'].isnull() | (df_survival['Churn Date'] > df_survival['Most Recent Donation']) , np.where(df_survival['Churn Date'].isnull(), 'None', 'Y'), 'N')\n",
    "df_survival['Churn Flag'].value_counts()"
   ]
  },
  {
   "cell_type": "code",
   "execution_count": null,
   "metadata": {},
   "outputs": [],
   "source": []
  },
  {
   "cell_type": "code",
   "execution_count": 66,
   "metadata": {},
   "outputs": [
    {
     "data": {
      "text/plain": [
       "None    448598\n",
       "N       418105\n",
       "Y       192816\n",
       "Name: Churn Flag, dtype: int64"
      ]
     },
     "execution_count": 66,
     "metadata": {},
     "output_type": "execute_result"
    }
   ],
   "source": []
  },
  {
   "cell_type": "code",
   "execution_count": 31,
   "metadata": {},
   "outputs": [
    {
     "ename": "TypeError",
     "evalue": "unsupported type for timedelta days component: Timedelta",
     "output_type": "error",
     "traceback": [
      "\u001b[0;31m---------------------------------------------------------------------------\u001b[0m",
      "\u001b[0;31mTypeError\u001b[0m                                 Traceback (most recent call last)",
      "\u001b[0;32m<ipython-input-31-c61428c66d9e>\u001b[0m in \u001b[0;36m<module>\u001b[0;34m()\u001b[0m\n\u001b[1;32m      1\u001b[0m \u001b[0;31m#print(obs_end_date.dtype)\u001b[0m\u001b[0;34m\u001b[0m\u001b[0;34m\u001b[0m\u001b[0m\n\u001b[0;32m----> 2\u001b[0;31m \u001b[0mobs_end_date\u001b[0m \u001b[0;34m-\u001b[0m \u001b[0mdf_survival\u001b[0m\u001b[0;34m.\u001b[0m\u001b[0mloc\u001b[0m\u001b[0;34m[\u001b[0m\u001b[0;34m:\u001b[0m\u001b[0;34m,\u001b[0m \u001b[0;34m'Frequency of Donations'\u001b[0m\u001b[0;34m]\u001b[0m\u001b[0;34m.\u001b[0m\u001b[0mmap\u001b[0m\u001b[0;34m(\u001b[0m\u001b[0mdt\u001b[0m\u001b[0;34m.\u001b[0m\u001b[0mtimedelta\u001b[0m\u001b[0;34m)\u001b[0m\u001b[0;34m\u001b[0m\u001b[0m\n\u001b[0m",
      "\u001b[0;32m/usr/lib/python3.6/site-packages/pandas/core/series.py\u001b[0m in \u001b[0;36mmap\u001b[0;34m(self, arg, na_action)\u001b[0m\n\u001b[1;32m   2994\u001b[0m         \"\"\"\n\u001b[1;32m   2995\u001b[0m         new_values = super(Series, self)._map_values(\n\u001b[0;32m-> 2996\u001b[0;31m             arg, na_action=na_action)\n\u001b[0m\u001b[1;32m   2997\u001b[0m         return self._constructor(new_values,\n\u001b[1;32m   2998\u001b[0m                                  index=self.index).__finalize__(self)\n",
      "\u001b[0;32m/usr/lib/python3.6/site-packages/pandas/core/base.py\u001b[0m in \u001b[0;36m_map_values\u001b[0;34m(self, mapper, na_action)\u001b[0m\n\u001b[1;32m   1002\u001b[0m \u001b[0;34m\u001b[0m\u001b[0m\n\u001b[1;32m   1003\u001b[0m         \u001b[0;31m# mapper is a function\u001b[0m\u001b[0;34m\u001b[0m\u001b[0;34m\u001b[0m\u001b[0m\n\u001b[0;32m-> 1004\u001b[0;31m         \u001b[0mnew_values\u001b[0m \u001b[0;34m=\u001b[0m \u001b[0mmap_f\u001b[0m\u001b[0;34m(\u001b[0m\u001b[0mvalues\u001b[0m\u001b[0;34m,\u001b[0m \u001b[0mmapper\u001b[0m\u001b[0;34m)\u001b[0m\u001b[0;34m\u001b[0m\u001b[0m\n\u001b[0m\u001b[1;32m   1005\u001b[0m \u001b[0;34m\u001b[0m\u001b[0m\n\u001b[1;32m   1006\u001b[0m         \u001b[0;32mreturn\u001b[0m \u001b[0mnew_values\u001b[0m\u001b[0;34m\u001b[0m\u001b[0m\n",
      "\u001b[0;32mpandas/_libs/src/inference.pyx\u001b[0m in \u001b[0;36mpandas._libs.lib.map_infer\u001b[0;34m()\u001b[0m\n",
      "\u001b[0;31mTypeError\u001b[0m: unsupported type for timedelta days component: Timedelta"
     ]
    }
   ],
   "source": []
  },
  {
   "cell_type": "code",
   "execution_count": null,
   "metadata": {},
   "outputs": [],
   "source": []
  },
  {
   "cell_type": "code",
   "execution_count": null,
   "metadata": {},
   "outputs": [],
   "source": []
  }
 ],
 "metadata": {
  "kernelspec": {
   "display_name": "Python 3",
   "language": "python",
   "name": "python3"
  },
  "language_info": {
   "codemirror_mode": {
    "name": "ipython",
    "version": 3
   },
   "file_extension": ".py",
   "mimetype": "text/x-python",
   "name": "python",
   "nbconvert_exporter": "python",
   "pygments_lexer": "ipython3",
   "version": "3.5.3"
  }
 },
 "nbformat": 4,
 "nbformat_minor": 2
}
