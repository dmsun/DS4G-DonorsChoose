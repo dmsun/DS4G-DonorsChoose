{
 "cells": [
  {
   "cell_type": "markdown",
   "metadata": {},
   "source": [
    "# DataScience for Good: DonersChoose.org\n",
    "\n",
    "The below will include the kernel for an investigation into the doner modelling from the data publicly available at Kaggle - https://www.kaggle.com/donorschoose/io/data\n",
    "\n",
    "\n",
    "The problem description from Kaggle:\n",
    "\n",
    "A good solution will enable DonorsChoose.org to build targeted email campaigns recommending specific classroom requests to prior donors. Part of the challenge is to assess the needs of the organization, uncover insights from the data available, and build the right solution for this problem. Submissions will be evaluated on the following criteria:\n",
    "\n",
    "    Performance - How well does the solution match donors to project requests to which they would be motivated to donate? DonorsChoose.org will not be able to live test every submission, so a strong entry will clearly articulate why it will be effective at motivating repeat donations.\n",
    "\n",
    "    Adaptable - The DonorsChoose.org team wants to put the winning submissions to work, quickly. Therefore a good entry will be easy to implement in production.\n",
    "\n",
    "    Intelligible - A good entry should be easily understood by the DonorsChoose.org team should it need to be updated in the future to accommodate a changing marketplace.\n"
   ]
  },
  {
   "cell_type": "markdown",
   "metadata": {},
   "source": [
    "## Working with the data\n",
    "\n",
    "This Notebook will explore the Donations.csv provided by DonorsChoose.org partnered with Google.org and document the process that will begin with performing basic descriptive statistics, to finalising a survival model which will predict the likelihood of donor dropoff.\n",
    "\n",
    "Follow along in your own python session if you want to have ago yourself. I'm working in Python 3.5 right now, my admin has been slacking recently XD. You'll need the following packages installed with pip:\n",
    "\n",
    "numpy\n",
    "pandas\n",
    "matplotlib\n",
    "\n"
   ]
  },
  {
   "cell_type": "code",
   "execution_count": 1,
   "metadata": {},
   "outputs": [],
   "source": [
    "import datetime as dt\n",
    "import pandas as pd\n",
    "import numpy as np\n",
    "\n",
    "columns = ['Project ID',\n",
    "          'Donation ID',\n",
    "          'Donor ID',\n",
    "          'Donation Included Optional Donation',\n",
    "          'Donation Amount',\n",
    "          'Donor Cart Sequence',\n",
    "          'Donation Received Date']\n",
    "\n",
    "dtypes = {'Project ID': object,\n",
    "          'Donation ID': object,\n",
    "          'Donor ID': object,\n",
    "          'Donation Included Optional Donation': object,\n",
    "          'Donation Amount': np.float64,\n",
    "          'Donor Cart Sequence': np.float64,\n",
    "          'Donation Received Date': object}\n",
    "\n",
    "PATH = 'C:/Users/ssamdj/Documents/python/doners'\n",
    "#PATH = '/home/mj/datawarehouse/io'\n",
    "\n",
    "#needed header=0 as names was passed to the function, but first line of csv contains column titles. This ensures they're not converted\n",
    "donations = pd.read_csv(PATH+'/Donations.csv', names = columns, header=0, dtype = dtypes, infer_datetime_format=True, parse_dates=True, low_memory=False)\n",
    "donors = pd.read_csv(PATH+'/Donors.csv', header=0, infer_datetime_format=True, parse_dates=True, low_memory=False)\n",
    "#projects = pd.read_csv(PATH+'/Projects.csv', header=0, infer_datetime_format=True, parse_dates=True, low_memory=False)\n",
    "#resources = pd.read_csv(PATH+'/Resources.csv', header=0, infer_datetime_format=True, parse_dates=True, low_memory=False)\n",
    "#schools = pd.read_csv(PATH+'/Schools.csv', names = columns, header=0, dtype = dtypes, infer_datetime_format=True, parse_dates=True, low_memory=False)\n",
    "#teachers = pd.read_csv(PATH+'/Teachers.csv', names = columns, header=0, dtype = dtypes, infer_datetime_format=True, parse_dates=True, low_memory=False)\n",
    "\n"
   ]
  },
  {
   "cell_type": "markdown",
   "metadata": {},
   "source": [
    "## Initial Data Profiling\n",
    "\n",
    "At the onset of any new project, I always like to find my bearings. Determining some high level statistical data can help to provide this picture. Descriptive statistics is the most basic form of data analysis and is essential to an effective workflow. Following, this, visualising the data is another important skillset to have in your back pocket. "
   ]
  },
  {
   "cell_type": "code",
   "execution_count": 2,
   "metadata": {
    "scrolled": true
   },
   "outputs": [
    {
     "name": "stdout",
     "output_type": "stream",
     "text": [
      "Donations: \n",
      " Rows:  4687884 Columns:  7\n",
      "Project ID                              object\n",
      "Donation ID                             object\n",
      "Donor ID                                object\n",
      "Donation Included Optional Donation     object\n",
      "Donation Amount                        float64\n",
      "Donor Cart Sequence                    float64\n",
      "Donation Received Date                  object\n",
      "dtype: object\n",
      "Donors: \n",
      " Rows:  2122640 Columns:  5\n",
      "Donor ID            object\n",
      "Donor City          object\n",
      "Donor State         object\n",
      "Donor Is Teacher    object\n",
      "Donor Zip           object\n",
      "dtype: object\n"
     ]
    }
   ],
   "source": [
    "print('Donations: \\n','Rows: ', donations.shape[0], 'Columns: ', donations.shape[1])\n",
    "print(donations.dtypes)\n",
    "print('Donors: \\n','Rows: ', donors.shape[0], 'Columns: ', donors.shape[1])\n",
    "print(donors.dtypes)\n",
    "#print('Projects: \\n','Rows: ', projects.shape[0], 'Columns: ', projects.shape[1])\n",
    "#print(projects.dtypes)\n",
    "#print('Resources: \\n','Rows: ', resources.shape[0], 'Columns: ', resources.shape[1])\n",
    "#print(resources.dtypes)\n",
    "#print('Schools: \\n','Rows: ', schools.shape[0], 'Columns: ', schools.shape[1])\n",
    "#print('Teachers: \\n','Rows: ', teachers.shape[0], 'Columns: ', teachers.shape[1])"
   ]
  },
  {
   "cell_type": "markdown",
   "metadata": {},
   "source": [
    "Slow and steady now! Okay, so the dataframe that we've loaded with the Donations.csv has 4 687 884 rows! That's some hefty data. Fortunately we've only got 7 columns to work with, which have been defined earlier. \n",
    "\n",
    "I think we'll need to enrich this data with some additional statistical information on the donor level to create these predictors of survive. We'll cross that bridge when we get there. "
   ]
  },
  {
   "cell_type": "code",
   "execution_count": 3,
   "metadata": {},
   "outputs": [
    {
     "name": "stdout",
     "output_type": "stream",
     "text": [
      "The minimum donation amount is: $ 0.01\n",
      "The maximum donation amount is: $ 60000.0\n",
      "The average donation amount is: $ 60.6687885792\n",
      "The most common donation amount is: $ 25.0\n"
     ]
    }
   ],
   "source": [
    "print(\"The minimum donation amount is: $\", donations['Donation Amount'].min())\n",
    "print(\"The maximum donation amount is: $\", donations['Donation Amount'].max())\n",
    "print(\"The average donation amount is: $\", donations['Donation Amount'].mean())\n",
    "df_mode = donations['Donation Amount'].mode() #note the mode outputs a dataframe where each row would identify the most common element in the case of ties.\n",
    "print(\"The most common donation amount is: $\", df_mode.iloc[0])\n"
   ]
  },
  {
   "cell_type": "markdown",
   "metadata": {},
   "source": [
    "That tell's us a little more. Donations vary - from as little as \\$0.01 to \\$60 000, whilst the mean is \\$60.67. The mean is a measure of centrality, but it isn't necessarily the best one to use in this kind of data set. From my own personal experience, I believe that this data set would be fairly right skewed (long tail to the right of the mean). A priori, I would guess that there would be a lot of smaller donations, and fewer at the high end. The mode gives me extra motivation that this is indeed the case.\n",
    "\n",
    "Don't forget to apply your own intuitions to the data - ask yourself what your prior knowledge or assumptions might be, and always challenge them.\n",
    "\n",
    "Sometimes the median - the middle item in an ordered list would be more appropriate. If the distribution of the donation amounts was symmetrically normal, then the median and means should be the same."
   ]
  },
  {
   "cell_type": "code",
   "execution_count": 55,
   "metadata": {},
   "outputs": [
    {
     "name": "stdout",
     "output_type": "stream",
     "text": [
      "The middle donation amount is: $ 25.0\n"
     ]
    }
   ],
   "source": [
    "print(\"The middle donation amount is: $\", donations['Donation Amount'].median())\n"
   ]
  },
  {
   "cell_type": "markdown",
   "metadata": {},
   "source": [
    "Ha! Knew it! Funnily enough, the most common donation is the same as the middle donation. That doesn't always happen like that. \n",
    "\n",
    "We can also do some further investigatory work to measure the spread of values across the distribution. Some inter-quantile information, and calculating the standard deviation should help us here."
   ]
  },
  {
   "cell_type": "code",
   "execution_count": 56,
   "metadata": {},
   "outputs": [
    {
     "name": "stdout",
     "output_type": "stream",
     "text": [
      "The standard deviation is: $ 166.899615325\n",
      "The variance is: $ 27855.4815956\n",
      "The 1st, 2nd, 3rd quantiles are: \n",
      " 0.25    14.82\n",
      "0.50    25.00\n",
      "0.75    50.00\n",
      "Name: Donation Amount, dtype: float64\n"
     ]
    }
   ],
   "source": [
    "print(\"The standard deviation is: $\", donations['Donation Amount'].std())\n",
    "print(\"The variance is: $\", donations['Donation Amount'].var())\n",
    "print(\"The 1st, 2nd, 3rd quantiles are: \\n\", donations['Donation Amount'].quantile([0.25, 0.50, 0.75]))"
   ]
  },
  {
   "cell_type": "markdown",
   "metadata": {},
   "source": [
    "These statistice are a little more difficult to interpret, but the standard deviation can be used to estimate what proportion of the population lies within specific intervals around the mean. For instance, approximately  between 1 Standard Deviation above and below the mean. The higher the standard deivation, the greater the spread. Variance is a similar concept and can also be expressed as the square of the standard deviation.\n",
    "\n",
    "The quartiles are the cutoff points for each population quarter of the population. 25% of the donation amounts are below \\$14.82, 50% are below \\$25, etc."
   ]
  },
  {
   "cell_type": "markdown",
   "metadata": {},
   "source": [
    "## Nullity\n",
    "\n",
    "Checking the proportionality of null columns in the tables is a very important step in profiling the data you want to work with. Ultimately it'll lead to more questions - like, why is the data null? do nulls only affect certain groups? How we treat nulls in our analysis is another decision point. "
   ]
  },
  {
   "cell_type": "code",
   "execution_count": 6,
   "metadata": {},
   "outputs": [
    {
     "name": "stdout",
     "output_type": "stream",
     "text": [
      "Null Values for Donations.csv:  Project ID                             0\n",
      "Donation ID                            0\n",
      "Donor ID                               0\n",
      "Donation Included Optional Donation    0\n",
      "Donation Amount                        0\n",
      "Donor Cart Sequence                    0\n",
      "Donation Received Date                 0\n",
      "dtype: int64\n",
      "Null Values for Donors.csv:  Donor ID                 0\n",
      "Donor City          213097\n",
      "Donor State              0\n",
      "Donor Is Teacher         0\n",
      "Donor Zip           180060\n",
      "dtype: int64\n"
     ]
    }
   ],
   "source": [
    "print('Null Values for Donations.csv: ', donations.isnull().sum())\n",
    "print('Null Values for Donors.csv: ', donors.isnull().sum())\n"
   ]
  },
  {
   "cell_type": "markdown",
   "metadata": {},
   "source": [
    "Overall Donations.csv is complete, but Donors.csv has a some 200000+ missings for City and Zip, which might be problematic if we're going to do some geographical based analysis."
   ]
  },
  {
   "cell_type": "markdown",
   "metadata": {},
   "source": [
    "## Some Data Preparation\n",
    "\n",
    "We enhance the donor data by creating additional columns which generate some statistical data based on "
   ]
  },
  {
   "cell_type": "code",
   "execution_count": 7,
   "metadata": {},
   "outputs": [],
   "source": [
    "#Note the as_index option will enable the datasets to be joined. The default behaviour of the groupby method is to make the groupby variable an index.\n",
    "df_by_donor = donations[['Donor ID','Donation ID', 'Donation Amount', 'Donation Received Date']].groupby('Donor ID', as_index=False).agg({'Donation ID': 'count', 'Donation Received Date': 'max', 'Donation Amount': ['min', 'max', 'mean', 'sum']})"
   ]
  },
  {
   "cell_type": "code",
   "execution_count": 8,
   "metadata": {},
   "outputs": [
    {
     "data": {
      "text/plain": [
       "MultiIndex(levels=[['Donation Received Date', 'Donation ID', 'Donation Amount', 'Donor ID'], ['count', 'max', 'mean', 'min', 'sum', '']],\n",
       "           labels=[[3, 0, 1, 2, 2, 2, 2], [5, 1, 0, 3, 1, 2, 4]])"
      ]
     },
     "execution_count": 8,
     "metadata": {},
     "output_type": "execute_result"
    }
   ],
   "source": [
    "df_by_donor.columns"
   ]
  },
  {
   "cell_type": "markdown",
   "metadata": {},
   "source": [
    "The dataframe we've just created df_donor_donations contains a multi-level index, and as such, needs to be treated differently when renaming. I personally prefer to have a flatter structure when dealing with pandas data frames. We can check this by printing the following:"
   ]
  },
  {
   "cell_type": "code",
   "execution_count": 9,
   "metadata": {},
   "outputs": [
    {
     "name": "stdout",
     "output_type": "stream",
     "text": [
      "Index(['Donor ID', 'Donation Received Date', 'Donation ID', 'Donation Amount',\n",
      "       'Donation Amount', 'Donation Amount', 'Donation Amount'],\n",
      "      dtype='object')\n",
      "Index(['', 'max', 'count', 'min', 'max', 'mean', 'sum'], dtype='object')\n"
     ]
    }
   ],
   "source": [
    "print(df_by_donor.columns.get_level_values(0))\n",
    "print(df_by_donor.columns.get_level_values(1))"
   ]
  },
  {
   "cell_type": "markdown",
   "metadata": {},
   "source": [
    "We can see here that we have a multi-level index. This can sometimes also occur when we use pivot tables. One way of flattening this has been discussed on Stack Overflow - https://stackoverflow.com/questions/14507794/python-pandas-how-to-flatten-a-hierarchical-index-in-columns.\n",
    "\n",
    "The approach by Andy Hayden is employed below."
   ]
  },
  {
   "cell_type": "code",
   "execution_count": 10,
   "metadata": {},
   "outputs": [],
   "source": [
    "df_by_donor.columns = [' '.join(col).strip() for col in df_by_donor.columns.values]"
   ]
  },
  {
   "cell_type": "markdown",
   "metadata": {},
   "source": [
    "Let's see how that has worked.\n"
   ]
  },
  {
   "cell_type": "code",
   "execution_count": 11,
   "metadata": {},
   "outputs": [
    {
     "name": "stdout",
     "output_type": "stream",
     "text": [
      "                           Donor ID Donation Received Date max  \\\n",
      "0  00000ce845c00cbf0686c992fc369df4        2013-12-17 21:47:14   \n",
      "1  00002783bc5d108510f3f9666c8b1edd        2016-02-02 18:34:27   \n",
      "2  00002d44003ed46b066607c5455a999a        2017-10-18 14:34:11   \n",
      "3  00002eb25d60a09c318efbd0797bffb5        2018-01-16 15:32:41   \n",
      "4  0000300773fe015f870914b42528541b        2017-02-26 11:52:14   \n",
      "\n",
      "   Donation ID count  Donation Amount min  Donation Amount max  \\\n",
      "0                  1                50.00                 50.0   \n",
      "1                  1                99.00                 99.0   \n",
      "2                 11                 9.69                150.0   \n",
      "3                  5                10.00                 50.0   \n",
      "4                  1                50.00                 50.0   \n",
      "\n",
      "   Donation Amount mean  Donation Amount sum  \n",
      "0             50.000000                50.00  \n",
      "1             99.000000                99.00  \n",
      "2             57.722727               634.95  \n",
      "3             42.000000               210.00  \n",
      "4             50.000000                50.00  \n"
     ]
    }
   ],
   "source": [
    "print(df_by_donor.head())"
   ]
  },
  {
   "cell_type": "markdown",
   "metadata": {},
   "source": [
    "I think I can spruce up those names a bit."
   ]
  },
  {
   "cell_type": "code",
   "execution_count": 12,
   "metadata": {},
   "outputs": [
    {
     "name": "stdout",
     "output_type": "stream",
     "text": [
      "                           Donor ID Most Recent Donation  \\\n",
      "0  00000ce845c00cbf0686c992fc369df4  2013-12-17 21:47:14   \n",
      "1  00002783bc5d108510f3f9666c8b1edd  2016-02-02 18:34:27   \n",
      "2  00002d44003ed46b066607c5455a999a  2017-10-18 14:34:11   \n",
      "3  00002eb25d60a09c318efbd0797bffb5  2018-01-16 15:32:41   \n",
      "4  0000300773fe015f870914b42528541b  2017-02-26 11:52:14   \n",
      "\n",
      "   Count of Donations by Donor  Minimum Donation  Maximum Donation  \\\n",
      "0                            1             50.00              50.0   \n",
      "1                            1             99.00              99.0   \n",
      "2                           11              9.69             150.0   \n",
      "3                            5             10.00              50.0   \n",
      "4                            1             50.00              50.0   \n",
      "\n",
      "   Mean Donation  Total Donations  \n",
      "0      50.000000            50.00  \n",
      "1      99.000000            99.00  \n",
      "2      57.722727           634.95  \n",
      "3      42.000000           210.00  \n",
      "4      50.000000            50.00  \n"
     ]
    }
   ],
   "source": [
    "df_by_donor.rename(columns = {'Donor ID': 'Donor ID', 'Donation Amount min': 'Minimum Donation', 'Donation Amount max': 'Maximum Donation', 'Donation Amount mean': 'Mean Donation', 'Donation Amount sum': 'Total Donations', 'Donation ID count': 'Count of Donations by Donor', 'Donation Received Date max': 'Most Recent Donation'}, inplace=True)\n",
    "print(df_by_donor.head())"
   ]
  },
  {
   "cell_type": "markdown",
   "metadata": {},
   "source": [
    "Much better. The final steps are to merge these data sets. I'll join 'df_by_donor' onto the original source data frame to enrich the data for visualisation. The easiest way to enrich the original data set is to perform a left join which the main data set listed as the 'left' table. Again, here we can use the pd.merge method, but change the 'how' option to left. \n",
    "\n",
    "Secondly, we'll merge with the donors data to gain some more geographic data about location."
   ]
  },
  {
   "cell_type": "code",
   "execution_count": 13,
   "metadata": {},
   "outputs": [
    {
     "name": "stdout",
     "output_type": "stream",
     "text": [
      "                         Project ID                       Donation ID  \\\n",
      "0  000009891526c0ade7180f8423792063  688729120858666221208529ee3fc18e   \n",
      "1  016510b8226e70d740130ac2dcfb6c5e  f7fc7cf0b8980fb00840b4afe7c1e761   \n",
      "2  03c8766872a129240d14be8c385b5f1a  5015b2df023ed47e7609e91ca65f7559   \n",
      "3  04bfceb168d816a3cbe52f1e70d30bf0  b8871d3666020f0a527c8d6b56361d1e   \n",
      "4  05a4e3418a97f2df3a6cc8ae8fbde60c  8bc4de01f65d42a611236e083c6f3473   \n",
      "\n",
      "                           Donor ID Donation Included Optional Donation  \\\n",
      "0  1f4b5b6e68445c6c4a0509b3aca93f38                                  No   \n",
      "1  1f4b5b6e68445c6c4a0509b3aca93f38                                  No   \n",
      "2  1f4b5b6e68445c6c4a0509b3aca93f38                                  No   \n",
      "3  1f4b5b6e68445c6c4a0509b3aca93f38                                  No   \n",
      "4  1f4b5b6e68445c6c4a0509b3aca93f38                                  No   \n",
      "\n",
      "   Donation Amount  Donor Cart Sequence Donation Received Date  \\\n",
      "0           178.37                 11.0    2016-08-23 13:15:57   \n",
      "1           807.92                 20.0    2016-12-21 13:03:59   \n",
      "2           288.99                 71.0    2018-01-25 17:01:41   \n",
      "3          1200.05                 38.0    2017-10-18 12:26:15   \n",
      "4           565.26                 75.0    2018-01-25 18:00:23   \n",
      "\n",
      "  Most Recent Donation  Count of Donations by Donor  Minimum Donation  \\\n",
      "0  2018-01-25 18:18:18                          314              35.0   \n",
      "1  2018-01-25 18:18:18                          314              35.0   \n",
      "2  2018-01-25 18:18:18                          314              35.0   \n",
      "3  2018-01-25 18:18:18                          314              35.0   \n",
      "4  2018-01-25 18:18:18                          314              35.0   \n",
      "\n",
      "   Maximum Donation  Mean Donation  Total Donations   Donor City Donor State  \\\n",
      "0           2382.99     445.120159        139767.73  West Jordan        Utah   \n",
      "1           2382.99     445.120159        139767.73  West Jordan        Utah   \n",
      "2           2382.99     445.120159        139767.73  West Jordan        Utah   \n",
      "3           2382.99     445.120159        139767.73  West Jordan        Utah   \n",
      "4           2382.99     445.120159        139767.73  West Jordan        Utah   \n",
      "\n",
      "  Donor Is Teacher Donor Zip  \n",
      "0               No       840  \n",
      "1               No       840  \n",
      "2               No       840  \n",
      "3               No       840  \n",
      "4               No       840  \n"
     ]
    }
   ],
   "source": [
    "df2 = pd.merge(donations, df_by_donor, how='inner', on='Donor ID')\n",
    "df3 = pd.merge(df2, donors, how='inner', on='Donor ID')\n",
    "print(df3.head())"
   ]
  },
  {
   "cell_type": "markdown",
   "metadata": {},
   "source": [
    "## Handling Time Series Data\n",
    "\n",
    "The Donation data that we've been given is a time-series which means that the relationships that we might like to draw (say donations forecasting) are time dependent. There is likely to be sensitivity in the data due to seasonality, or drop-off of donors for various reasons.\n",
    "\n",
    "I will ensure that our datetime variables are properly interpreted as a datetime number."
   ]
  },
  {
   "cell_type": "code",
   "execution_count": 14,
   "metadata": {},
   "outputs": [],
   "source": [
    "df3['Donation Received Date'] = pd.to_datetime(df3['Donation Received Date'])\n",
    "df3['Most Recent Donation'] = pd.to_datetime(df3['Most Recent Donation'])"
   ]
  },
  {
   "cell_type": "markdown",
   "metadata": {},
   "source": [
    "I like to group my data further more\n",
    "Now is a good time to do some more feature creation before we dive head first into Visualising the content. In particular, it's sometimes a good idea to create Month, Year, Month-Year variables that will allow for better grouping through time. This will reduce the performance required of plotting by reducing the number of individual points."
   ]
  },
  {
   "cell_type": "code",
   "execution_count": 15,
   "metadata": {},
   "outputs": [],
   "source": [
    "df3['Donation Received Month'] = df3['Donation Received Date'].dt.month\n",
    "df3['Donation Received Year'] = df3['Donation Received Date'].dt.year\n",
    "df3['Donation Received Month-Year'] = df3['Donation Received Date'].dt.to_period('M')\n",
    "df3.sort_values(by='Donation Received Date', inplace=True, ascending= True)"
   ]
  },
  {
   "cell_type": "code",
   "execution_count": 16,
   "metadata": {},
   "outputs": [],
   "source": [
    "df3_month = df3[['Donation Received Month-Year', 'Donor ID', 'Donation Amount']].groupby(by='Donation Received Month-Year', as_index=False).agg({'Donation Amount': ['min', 'max', 'mean', 'sum', 'count'], 'Donor ID': pd.Series.nunique})\n",
    "df3_month.columns = [' '.join(col).strip() for col in df3_month.columns.values]\n",
    "df3_month.rename(columns = {'Donor ID nunique': 'Count of Unique Donors', 'Donation Amount min': 'Minimum Donation', 'Donation Amount max': 'Maximum Donation', 'Donation Amount mean': 'Mean Donation', 'Donation Amount sum': 'Total Donations', 'Donation Amount count': 'Count of Donations'}, inplace=True)"
   ]
  },
  {
   "cell_type": "markdown",
   "metadata": {},
   "source": [
    "## Visualising the Data\n",
    "\n",
    "Visualising the data is an important step to understanding it. Pictures are worth 1 000 words. Okay with that in mind, we'll need to import the Matplotlib to start, and then we'll try and plot a distribution of the donations over the course of the time period to get a better understanding of the spread of donations with respect to time. "
   ]
  },
  {
   "cell_type": "code",
   "execution_count": 17,
   "metadata": {},
   "outputs": [
    {
     "data": {
      "text/plain": [
       "Index(['Donation Received Month-Year', 'Count of Unique Donors',\n",
       "       'Minimum Donation', 'Maximum Donation', 'Mean Donation',\n",
       "       'Total Donations', 'Count of Donations'],\n",
       "      dtype='object')"
      ]
     },
     "execution_count": 17,
     "metadata": {},
     "output_type": "execute_result"
    }
   ],
   "source": [
    "import matplotlib.pyplot as plt\n",
    "df3_month.columns"
   ]
  },
  {
   "cell_type": "code",
   "execution_count": 18,
   "metadata": {},
   "outputs": [
    {
     "data": {
      "image/png": "[encoded data removed]",
      "text/plain": [
       "<matplotlib.figure.Figure at 0x24eff682400>"
      ]
     },
     "metadata": {},
     "output_type": "display_data"
    },
    {
     "data": {
      "image/png": "[encoded data removed]",
      "text/plain": [
       "<matplotlib.figure.Figure at 0x24eff6822b0>"
      ]
     },
     "metadata": {},
     "output_type": "display_data"
    },
    {
     "data": {
      "image/png": "[encoded data removed]",
      "text/plain": [
       "<matplotlib.figure.Figure at 0x24eff682358>"
      ]
     },
     "metadata": {},
     "output_type": "display_data"
    },
    {
     "data": {
      "image/png": "[encoded data removed]",
      "text/plain": [
       "<matplotlib.figure.Figure at 0x24eff682278>"
      ]
     },
     "metadata": {},
     "output_type": "display_data"
    }
   ],
   "source": [
    "df3_month.plot(x='Donation Received Month-Year', y='Total Donations', kind='line')\n",
    "df3_month.plot(x='Donation Received Month-Year', y='Mean Donation', kind='line')\n",
    "df3_month.plot(x='Donation Received Month-Year', y='Count of Donations', kind='line')\n",
    "df3_month.plot(x='Donation Received Month-Year', y='Count of Unique Donors', kind='line')\n",
    "plt.show()\n"
   ]
  },
  {
   "cell_type": "markdown",
   "metadata": {},
   "source": [
    "Okay this is interesting, there is definitely some seasonality to the donations, as can be seen by the hills and valleys in the graph. Monetary value is generally only a proxy for the frequency of donations. We may want to consider how we might further draw out the relationships for Recency-Frequency-Monetary Value. There are a couple of very large donations which are highlighted by the large spikes in the graph. No doubt, these were likely donations by organisations rather than private individuals. \n",
    "\n"
   ]
  },
  {
   "cell_type": "markdown",
   "metadata": {},
   "source": [
    "## Frequency Distribution\n",
    "\n",
    "We can also visualise the frequency with which each of the donations have occured. Since we have a large outlier ($60 000), it's best to do some binning to better show the graph. I've arbitrarily used the following bins:\n",
    "\n"
   ]
  },
  {
   "cell_type": "code",
   "execution_count": 54,
   "metadata": {},
   "outputs": [
    {
     "data": {
      "image/png": "[encoded data removed]",
      "text/plain": [
       "<matplotlib.figure.Figure at 0x24f386ee5f8>"
      ]
     },
     "metadata": {},
     "output_type": "display_data"
    }
   ],
   "source": [
    "bins = [5, 25, 50, 100, 200, 300, 400, 500, 1000, 5000]\n",
    "df3_freq = df3['Donation Amount'].value_counts(bins=bins).sort_index()\n",
    "df3_freq.plot(x='Donation Amount', y='Donation Amount count', kind= 'line')\n",
    "plt.show()\n",
    "\n",
    "#df3_norm = (df3['Donation Amount'] - df3['Donation Amount'].mean())/(df3['Donation Amount'].max() - df3['Donation Amount'].mean())"
   ]
  },
  {
   "cell_type": "markdown",
   "metadata": {},
   "source": [
    "## Classifying Donors\n",
    "\n",
    "There are several aspects that we might like to look for to categorise the donor. It's generally well known that a major proportion of the funding raised is donated by a small percentage of the population. If we can stratify the donor base to gain this insight then we might be able to more narrowly target populations, creating the the best lift. \n",
    "### The 80/20 Rule\n",
    "To begin, I'll be challenging the 80/20 rule. I'd like to first test the hypothesis that 80% of the donations in monetary value come from 20% percent of the popluation. I'll also only look at the most recent 12 months, as it might be that donors from previous years are less significant to future projections.\n",
    "\n",
    "We can do this using the datetime timedelta method.\n"
   ]
  },
  {
   "cell_type": "code",
   "execution_count": 20,
   "metadata": {},
   "outputs": [
    {
     "name": "stdout",
     "output_type": "stream",
     "text": [
      "The focus period begins at: 2017-05-09 11:38:47\n",
      "The focus period ends at: 2018-05-09 11:38:47\n"
     ]
    }
   ],
   "source": [
    "beginning_date = df3['Donation Received Date'].max() - dt.timedelta(days=365)\n",
    "end_date = df3['Donation Received Date'].max()\n",
    "\n",
    "print(\"The focus period begins at:\", beginning_date)\n",
    "print(\"The focus period ends at:\", end_date)"
   ]
  },
  {
   "cell_type": "code",
   "execution_count": 82,
   "metadata": {},
   "outputs": [
    {
     "name": "stdout",
     "output_type": "stream",
     "text": [
      "The proportion of donations from the top 20% of donors is: 0.736155643517\n"
     ]
    }
   ],
   "source": [
    "donor_class = df3.loc[(beginning_date <= df3['Donation Received Date'])].groupby(by='Donor ID', as_index=False).agg({'Donation Amount': ['mean', 'sum', 'count']})\n",
    "donor_class.columns = [' '.join(col).strip() for col in donor_class.columns.values]\n",
    "# This calculates the 20% of the row count\n",
    "top_20 = donor_class.shape[0]//100 * 20\n",
    "\n",
    "donor_class.sort_values('Donation Amount sum', ascending=False, inplace=True)\n",
    "donor_class.reset_index(drop=True, inplace=True)\n",
    "#\n",
    "print(\"The proportion of donations from the top 20% of donors is:\", donor_class['Donation Amount sum'].loc[(donor_class.index <= top_20)].sum()/donor_class['Donation Amount sum'].sum())\n",
    "donor_top20 = donor_class['Donor ID'].loc[(donor_class.index <= top_20)]"
   ]
  },
  {
   "cell_type": "markdown",
   "metadata": {},
   "source": [
    "So what does this mean? Firstly, the dataframe was subsetting to include only the data that is from 9th May 2017. It was grouped by Donor ID. I flattened the dataframe as Donation amount was aggregated to include the mean, count and sum of the donations of the last year. \n",
    "\n",
    "The 80/20 rule has held true, approximately speaking.\n"
   ]
  },
  {
   "cell_type": "markdown",
   "metadata": {},
   "source": [
    "## Survival Analysis\n",
    "\n",
    "\n",
    "\n",
    "### Defining the Event\n",
    "Survival analysis aims to predict when in time the some defined 'event' will occur for a person. When reviewing donors, it can be helpful to predict 'donor churn'. Donor churn can be difficult to define in the absence of information about subscription based donations.\n",
    "\n",
    "The result of this is that some donors will not have experienced this. They could be regular donors for some of these projects. In survival analysis, if the event has not occurred during the period of observation, then the object will considered to be censored. This would be specifically called right-censoring.\n",
    "\n",
    "This is where it really can get tricky with the application of survival analysis to donations. The individual may have already churned, or decided to no longer support the charity, but the full 12 month period may not have elapsed. This is a limitation of the approach. \n",
    "\n",
    "First we will define for each donor the donation frequency (mean frequency). The donor will be considered to have churned iff  their most recent donation be greater than n-periods of frequency before the observation end date. N-periods of the frequency can be decided through cross-validation, but will be n = 1 for this analysis.\n"
   ]
  },
  {
   "cell_type": "code",
   "execution_count": 85,
   "metadata": {},
   "outputs": [
    {
     "name": "stdout",
     "output_type": "stream",
     "text": [
      "The focus period begins at: 2016-05-09 11:38:47\n",
      "The focus period ends at: 2017-05-09 11:38:47\n"
     ]
    }
   ],
   "source": [
    "obs_beginning_date = df3['Donation Received Date'].max() - dt.timedelta(days=365*2)\n",
    "obs_end_date = df3['Donation Received Date'].max() - dt.timedelta(days=365)\n",
    "\n",
    "print(\"The focus period begins at:\", obs_beginning_date)\n",
    "print(\"The focus period ends at:\", obs_end_date)\n",
    "\n",
    "df3_obs = df3.loc[(obs_beginning_date <= df3['Donation Received Date']) & (df3['Donation Received Date'] <= obs_end_date)]\n"
   ]
  },
  {
   "cell_type": "code",
   "execution_count": 86,
   "metadata": {},
   "outputs": [],
   "source": [
    "df3_obs = df3.sort_values(by=['Donor ID', 'Donation Received Date'])"
   ]
  },
  {
   "cell_type": "code",
   "execution_count": 115,
   "metadata": {
    "scrolled": true
   },
   "outputs": [
    {
     "name": "stdout",
     "output_type": "stream",
     "text": [
      "3209653    0 days 00:00:00\n",
      "3922619    0 days 00:00:00\n",
      "2515350    0 days 00:00:00\n",
      "2515351   82 days 04:56:09\n",
      "2515344    0 days 13:08:50\n",
      "Name: Time between donations, dtype: timedelta64[ns]\n"
     ]
    }
   ],
   "source": [
    "df3_obs['Time between donations'] = df3_obs.groupby('Donor ID')['Donation Received Date'].diff().fillna(0)\n",
    "print(df3_obs.head())"
   ]
  },
  {
   "cell_type": "code",
   "execution_count": 124,
   "metadata": {},
   "outputs": [
    {
     "name": "stdout",
     "output_type": "stream",
     "text": [
      "Donor ID\n",
      "00000ce845c00cbf0686c992fc369df4                        NaT\n",
      "00002783bc5d108510f3f9666c8b1edd                        NaT\n",
      "00002d44003ed46b066607c5455a999a           35 days 18:37:54\n",
      "00002eb25d60a09c318efbd0797bffb5   209 days 19:21:06.500000\n",
      "0000300773fe015f870914b42528541b                        NaT\n",
      "dtype: timedelta64[ns]\n"
     ]
    }
   ],
   "source": [
    "donor_groups = df3_obs[['Donor ID', 'Donation Received Date']].groupby('Donor ID')\n",
    "time_diff = donor_groups.apply(lambda df: df['Donation Received Date'].diff().mean().fillna(0))\n",
    "#https://stackoverflow.com/questions/29722704/fastest-way-to-calculate-average-of-datetime-rows-using-pandas\n",
    "print(time_diff.head())"
   ]
  },
  {
   "cell_type": "code",
   "execution_count": 104,
   "metadata": {},
   "outputs": [
    {
     "ename": "ValueError",
     "evalue": "The truth value of a Series is ambiguous. Use a.empty, a.bool(), a.item(), a.any() or a.all().",
     "output_type": "error",
     "traceback": [
      "\u001b[1;31m---------------------------------------------------------------------------\u001b[0m",
      "\u001b[1;31mValueError\u001b[0m                                Traceback (most recent call last)",
      "\u001b[1;32m<ipython-input-104-f7c097243597>\u001b[0m in \u001b[0;36m<module>\u001b[1;34m()\u001b[0m\n\u001b[0;32m      2\u001b[0m \u001b[1;33m\u001b[0m\u001b[0m\n\u001b[0;32m      3\u001b[0m \u001b[1;33m\u001b[0m\u001b[0m\n\u001b[1;32m----> 4\u001b[1;33m \u001b[1;32mif\u001b[0m \u001b[0mdf3_obs\u001b[0m\u001b[1;33m[\u001b[0m\u001b[1;34m'Churn Date'\u001b[0m\u001b[1;33m]\u001b[0m \u001b[1;33m>\u001b[0m \u001b[0mdf3_obs\u001b[0m\u001b[1;33m[\u001b[0m\u001b[1;34m'Most Recent Donation'\u001b[0m\u001b[1;33m]\u001b[0m\u001b[1;33m:\u001b[0m\u001b[1;33m\u001b[0m\u001b[0m\n\u001b[0m\u001b[0;32m      5\u001b[0m     \u001b[0mdf3_obs\u001b[0m\u001b[1;33m[\u001b[0m\u001b[1;34m'Churn Flag'\u001b[0m\u001b[1;33m]\u001b[0m \u001b[1;33m=\u001b[0m \u001b[1;34m\"Y\"\u001b[0m\u001b[1;33m\u001b[0m\u001b[0m\n\u001b[0;32m      6\u001b[0m \u001b[1;32melse\u001b[0m\u001b[1;33m:\u001b[0m\u001b[1;33m\u001b[0m\u001b[0m\n",
      "\u001b[1;32mc:\\program files\\python35\\lib\\site-packages\\pandas\\core\\generic.py\u001b[0m in \u001b[0;36m__nonzero__\u001b[1;34m(self)\u001b[0m\n\u001b[0;32m    915\u001b[0m         raise ValueError(\"The truth value of a {0} is ambiguous. \"\n\u001b[0;32m    916\u001b[0m                          \u001b[1;34m\"Use a.empty, a.bool(), a.item(), a.any() or a.all().\"\u001b[0m\u001b[1;33m\u001b[0m\u001b[0m\n\u001b[1;32m--> 917\u001b[1;33m                          .format(self.__class__.__name__))\n\u001b[0m\u001b[0;32m    918\u001b[0m \u001b[1;33m\u001b[0m\u001b[0m\n\u001b[0;32m    919\u001b[0m     \u001b[0m__bool__\u001b[0m \u001b[1;33m=\u001b[0m \u001b[0m__nonzero__\u001b[0m\u001b[1;33m\u001b[0m\u001b[0m\n",
      "\u001b[1;31mValueError\u001b[0m: The truth value of a Series is ambiguous. Use a.empty, a.bool(), a.item(), a.any() or a.all()."
     ]
    }
   ],
   "source": [
    "n_periods = 1\n",
    "\n",
    "\n",
    "if df3_obs['Churn Date'] > df3_obs['Most Recent Donation']:\n",
    "    df3_obs['Churn Flag'] = \"Y\"\n",
    "else:\n",
    "    df3_obs['Churn Flag'] = \"N\"\n",
    "\n",
    "print(df3_obs['Churn Flad'].head())\n",
    "        "
   ]
  },
  {
   "cell_type": "code",
   "execution_count": 111,
   "metadata": {},
   "outputs": [
    {
     "ename": "KeyError",
     "evalue": "'the label [Frequency of donations] is not in the [index]'",
     "output_type": "error",
     "traceback": [
      "\u001b[1;31m---------------------------------------------------------------------------\u001b[0m",
      "\u001b[1;31mKeyError\u001b[0m                                  Traceback (most recent call last)",
      "\u001b[1;32mc:\\program files\\python35\\lib\\site-packages\\pandas\\core\\indexing.py\u001b[0m in \u001b[0;36m_has_valid_type\u001b[1;34m(self, key, axis)\u001b[0m\n\u001b[0;32m   1410\u001b[0m                 \u001b[1;32mif\u001b[0m \u001b[0mkey\u001b[0m \u001b[1;32mnot\u001b[0m \u001b[1;32min\u001b[0m \u001b[0max\u001b[0m\u001b[1;33m:\u001b[0m\u001b[1;33m\u001b[0m\u001b[0m\n\u001b[1;32m-> 1411\u001b[1;33m                     \u001b[0merror\u001b[0m\u001b[1;33m(\u001b[0m\u001b[1;33m)\u001b[0m\u001b[1;33m\u001b[0m\u001b[0m\n\u001b[0m\u001b[0;32m   1412\u001b[0m             \u001b[1;32mexcept\u001b[0m \u001b[0mTypeError\u001b[0m \u001b[1;32mas\u001b[0m \u001b[0me\u001b[0m\u001b[1;33m:\u001b[0m\u001b[1;33m\u001b[0m\u001b[0m\n",
      "\u001b[1;32mc:\\program files\\python35\\lib\\site-packages\\pandas\\core\\indexing.py\u001b[0m in \u001b[0;36merror\u001b[1;34m()\u001b[0m\n\u001b[0;32m   1405\u001b[0m                 raise KeyError(\"the label [%s] is not in the [%s]\" %\n\u001b[1;32m-> 1406\u001b[1;33m                                (key, self.obj._get_axis_name(axis)))\n\u001b[0m\u001b[0;32m   1407\u001b[0m \u001b[1;33m\u001b[0m\u001b[0m\n",
      "\u001b[1;31mKeyError\u001b[0m: 'the label [Frequency of donations] is not in the [index]'",
      "\nDuring handling of the above exception, another exception occurred:\n",
      "\u001b[1;31mKeyError\u001b[0m                                  Traceback (most recent call last)",
      "\u001b[1;32m<ipython-input-111-5628edec4436>\u001b[0m in \u001b[0;36m<module>\u001b[1;34m()\u001b[0m\n\u001b[0;32m      2\u001b[0m \u001b[1;31m# donor_class.reset_index(drop=True, inplace=True)\u001b[0m\u001b[1;33m\u001b[0m\u001b[1;33m\u001b[0m\u001b[0m\n\u001b[0;32m      3\u001b[0m \u001b[1;31m# donor_class.loc[donor_class.index <= top_20]\u001b[0m\u001b[1;33m\u001b[0m\u001b[1;33m\u001b[0m\u001b[0m\n\u001b[1;32m----> 4\u001b[1;33m \u001b[0mdf3_obs\u001b[0m\u001b[1;33m.\u001b[0m\u001b[0mloc\u001b[0m\u001b[1;33m[\u001b[0m\u001b[1;34m'Churn Date'\u001b[0m\u001b[1;33m]\u001b[0m \u001b[1;33m=\u001b[0m \u001b[0mobs_end_date\u001b[0m \u001b[1;33m-\u001b[0m \u001b[0mdt\u001b[0m\u001b[1;33m.\u001b[0m\u001b[0mtimedelta\u001b[0m\u001b[1;33m(\u001b[0m\u001b[0mdf3_obs\u001b[0m\u001b[1;33m.\u001b[0m\u001b[0mloc\u001b[0m\u001b[1;33m[\u001b[0m\u001b[1;34m'Frequency of donations'\u001b[0m\u001b[1;33m]\u001b[0m\u001b[1;33m)\u001b[0m\u001b[1;33m\u001b[0m\u001b[0m\n\u001b[0m",
      "\u001b[1;32mc:\\program files\\python35\\lib\\site-packages\\pandas\\core\\indexing.py\u001b[0m in \u001b[0;36m__getitem__\u001b[1;34m(self, key)\u001b[0m\n\u001b[0;32m   1310\u001b[0m             \u001b[1;32mreturn\u001b[0m \u001b[0mself\u001b[0m\u001b[1;33m.\u001b[0m\u001b[0m_getitem_tuple\u001b[0m\u001b[1;33m(\u001b[0m\u001b[0mkey\u001b[0m\u001b[1;33m)\u001b[0m\u001b[1;33m\u001b[0m\u001b[0m\n\u001b[0;32m   1311\u001b[0m         \u001b[1;32melse\u001b[0m\u001b[1;33m:\u001b[0m\u001b[1;33m\u001b[0m\u001b[0m\n\u001b[1;32m-> 1312\u001b[1;33m             \u001b[1;32mreturn\u001b[0m \u001b[0mself\u001b[0m\u001b[1;33m.\u001b[0m\u001b[0m_getitem_axis\u001b[0m\u001b[1;33m(\u001b[0m\u001b[0mkey\u001b[0m\u001b[1;33m,\u001b[0m \u001b[0maxis\u001b[0m\u001b[1;33m=\u001b[0m\u001b[1;36m0\u001b[0m\u001b[1;33m)\u001b[0m\u001b[1;33m\u001b[0m\u001b[0m\n\u001b[0m\u001b[0;32m   1313\u001b[0m \u001b[1;33m\u001b[0m\u001b[0m\n\u001b[0;32m   1314\u001b[0m     \u001b[1;32mdef\u001b[0m \u001b[0m_getitem_axis\u001b[0m\u001b[1;33m(\u001b[0m\u001b[0mself\u001b[0m\u001b[1;33m,\u001b[0m \u001b[0mkey\u001b[0m\u001b[1;33m,\u001b[0m \u001b[0maxis\u001b[0m\u001b[1;33m=\u001b[0m\u001b[1;36m0\u001b[0m\u001b[1;33m)\u001b[0m\u001b[1;33m:\u001b[0m\u001b[1;33m\u001b[0m\u001b[0m\n",
      "\u001b[1;32mc:\\program files\\python35\\lib\\site-packages\\pandas\\core\\indexing.py\u001b[0m in \u001b[0;36m_getitem_axis\u001b[1;34m(self, key, axis)\u001b[0m\n\u001b[0;32m   1480\u001b[0m \u001b[1;33m\u001b[0m\u001b[0m\n\u001b[0;32m   1481\u001b[0m         \u001b[1;31m# fall thru to straight lookup\u001b[0m\u001b[1;33m\u001b[0m\u001b[1;33m\u001b[0m\u001b[0m\n\u001b[1;32m-> 1482\u001b[1;33m         \u001b[0mself\u001b[0m\u001b[1;33m.\u001b[0m\u001b[0m_has_valid_type\u001b[0m\u001b[1;33m(\u001b[0m\u001b[0mkey\u001b[0m\u001b[1;33m,\u001b[0m \u001b[0maxis\u001b[0m\u001b[1;33m)\u001b[0m\u001b[1;33m\u001b[0m\u001b[0m\n\u001b[0m\u001b[0;32m   1483\u001b[0m         \u001b[1;32mreturn\u001b[0m \u001b[0mself\u001b[0m\u001b[1;33m.\u001b[0m\u001b[0m_get_label\u001b[0m\u001b[1;33m(\u001b[0m\u001b[0mkey\u001b[0m\u001b[1;33m,\u001b[0m \u001b[0maxis\u001b[0m\u001b[1;33m=\u001b[0m\u001b[0maxis\u001b[0m\u001b[1;33m)\u001b[0m\u001b[1;33m\u001b[0m\u001b[0m\n\u001b[0;32m   1484\u001b[0m \u001b[1;33m\u001b[0m\u001b[0m\n",
      "\u001b[1;32mc:\\program files\\python35\\lib\\site-packages\\pandas\\core\\indexing.py\u001b[0m in \u001b[0;36m_has_valid_type\u001b[1;34m(self, key, axis)\u001b[0m\n\u001b[0;32m   1417\u001b[0m                 \u001b[1;32mraise\u001b[0m\u001b[1;33m\u001b[0m\u001b[0m\n\u001b[0;32m   1418\u001b[0m             \u001b[1;32mexcept\u001b[0m\u001b[1;33m:\u001b[0m\u001b[1;33m\u001b[0m\u001b[0m\n\u001b[1;32m-> 1419\u001b[1;33m                 \u001b[0merror\u001b[0m\u001b[1;33m(\u001b[0m\u001b[1;33m)\u001b[0m\u001b[1;33m\u001b[0m\u001b[0m\n\u001b[0m\u001b[0;32m   1420\u001b[0m \u001b[1;33m\u001b[0m\u001b[0m\n\u001b[0;32m   1421\u001b[0m         \u001b[1;32mreturn\u001b[0m \u001b[1;32mTrue\u001b[0m\u001b[1;33m\u001b[0m\u001b[0m\n",
      "\u001b[1;32mc:\\program files\\python35\\lib\\site-packages\\pandas\\core\\indexing.py\u001b[0m in \u001b[0;36merror\u001b[1;34m()\u001b[0m\n\u001b[0;32m   1404\u001b[0m                                     \"key\")\n\u001b[0;32m   1405\u001b[0m                 raise KeyError(\"the label [%s] is not in the [%s]\" %\n\u001b[1;32m-> 1406\u001b[1;33m                                (key, self.obj._get_axis_name(axis)))\n\u001b[0m\u001b[0;32m   1407\u001b[0m \u001b[1;33m\u001b[0m\u001b[0m\n\u001b[0;32m   1408\u001b[0m             \u001b[1;32mtry\u001b[0m\u001b[1;33m:\u001b[0m\u001b[1;33m\u001b[0m\u001b[0m\n",
      "\u001b[1;31mKeyError\u001b[0m: 'the label [Frequency of donations] is not in the [index]'"
     ]
    }
   ],
   "source": [
    "# donor_class.sort_values('Donation Amount count', ascending=False, inplace=True)\n",
    "# donor_class.reset_index(drop=True, inplace=True)\n",
    "# donor_class.loc[donor_class.index <= top_20]\n",
    "df3_obs.loc['Churn Date'] = obs_end_date - dt.timedelta(df3_obs.loc['Frequency of donations'])"
   ]
  },
  {
   "cell_type": "code",
   "execution_count": 117,
   "metadata": {},
   "outputs": [
    {
     "name": "stdout",
     "output_type": "stream",
     "text": [
      "                               Project ID                       Donation ID  \\\n",
      "3209653  5bab6101eed588c396a59f6bd64274b6  598691d82438952e2e4f3ed50531fd2a   \n",
      "3922619  9db61b1b1e43a7b256eec9b20b42d854  024a4665bdb59f32027395aea3b0ed55   \n",
      "2515350  e2beb818569f66adaa4ced21ca299ac6  08ed72ce14c548e8131a7dd7b8561988   \n",
      "2515351  eb6d91cbeab5037ca2f45fc3f6a4de8c  158f00637416b7c41fcde429b10c3c41   \n",
      "2515344  64f54f1efcbeb986114a7a13e6b27257  e3162fdec64ed91de1aa096cf75ba032   \n",
      "\n",
      "                                 Donor ID Donation Included Optional Donation  \\\n",
      "3209653  00000ce845c00cbf0686c992fc369df4                                 Yes   \n",
      "3922619  00002783bc5d108510f3f9666c8b1edd                                 Yes   \n",
      "2515350  00002d44003ed46b066607c5455a999a                                 Yes   \n",
      "2515351  00002d44003ed46b066607c5455a999a                                 Yes   \n",
      "2515344  00002d44003ed46b066607c5455a999a                                 Yes   \n",
      "\n",
      "         Donation Amount  Donor Cart Sequence Donation Received Date  \\\n",
      "3209653            50.00                  1.0    2013-12-17 21:47:14   \n",
      "3922619            99.00                  1.0    2016-02-02 18:34:27   \n",
      "2515350            10.00                  1.0    2016-10-25 20:15:11   \n",
      "2515351            15.51                  2.0    2017-01-16 01:11:20   \n",
      "2515344           100.00                  3.0    2017-01-16 14:20:10   \n",
      "\n",
      "        Most Recent Donation  Count of Donations by Donor  Minimum Donation  \\\n",
      "3209653  2013-12-17 21:47:14                            1             50.00   \n",
      "3922619  2016-02-02 18:34:27                            1             99.00   \n",
      "2515350  2017-10-18 14:34:11                           11              9.69   \n",
      "2515351  2017-10-18 14:34:11                           11              9.69   \n",
      "2515344  2017-10-18 14:34:11                           11              9.69   \n",
      "\n",
      "                     ...               Donor City  Donor State  \\\n",
      "3209653              ...                 Evanston     Illinois   \n",
      "3922619              ...               Appomattox        other   \n",
      "2515350              ...                   Winton   California   \n",
      "2515351              ...                   Winton   California   \n",
      "2515344              ...                   Winton   California   \n",
      "\n",
      "         Donor Is Teacher Donor Zip Donation Received Month  \\\n",
      "3209653                No       602                      12   \n",
      "3922619                No       245                       2   \n",
      "2515350               Yes       953                      10   \n",
      "2515351               Yes       953                       1   \n",
      "2515344               Yes       953                       1   \n",
      "\n",
      "        Donation Received Year Donation Received Month-Year  \\\n",
      "3209653                   2013                      2013-12   \n",
      "3922619                   2016                      2016-02   \n",
      "2515350                   2016                      2016-10   \n",
      "2515351                   2017                      2017-01   \n",
      "2515344                   2017                      2017-01   \n",
      "\n",
      "         Time between donations  Frequency of donations  \\\n",
      "3209653         0 days 00:00:00 48 days 13:45:11.374536   \n",
      "3922619         0 days 00:00:00 48 days 13:45:11.374536   \n",
      "2515350         0 days 00:00:00 48 days 13:45:11.374536   \n",
      "2515351        82 days 04:56:09 48 days 13:45:11.374536   \n",
      "2515344         0 days 13:08:50 48 days 13:45:11.374536   \n",
      "\n",
      "                           Churn Date  \n",
      "3209653 1970-02-18 13:45:11.374536832  \n",
      "3922619 1970-02-18 13:45:11.374536832  \n",
      "2515350 1970-02-18 13:45:11.374536832  \n",
      "2515351 1970-02-18 13:45:11.374536832  \n",
      "2515344 1970-02-18 13:45:11.374536832  \n",
      "\n",
      "[5 rows x 23 columns]\n"
     ]
    }
   ],
   "source": [
    "print(df3_obs.head())"
   ]
  },
  {
   "cell_type": "code",
   "execution_count": null,
   "metadata": {},
   "outputs": [],
   "source": []
  }
 ],
 "metadata": {
  "kernelspec": {
   "display_name": "Python 3",
   "language": "python",
   "name": "python3"
  },
  "language_info": {
   "codemirror_mode": {
    "name": "ipython",
    "version": 3
   },
   "file_extension": ".py",
   "mimetype": "text/x-python",
   "name": "python",
   "nbconvert_exporter": "python",
   "pygments_lexer": "ipython3",
   "version": "3.6.5"
  }
 },
 "nbformat": 4,
 "nbformat_minor": 2
}
